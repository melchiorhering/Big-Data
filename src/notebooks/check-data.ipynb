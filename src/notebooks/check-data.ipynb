{
 "cells": [
  {
   "cell_type": "markdown",
   "metadata": {},
   "source": [
    "# Check Data Warehouse\n",
    "\n",
    "### Import\n"
   ]
  },
  {
   "cell_type": "code",
   "execution_count": 8,
   "metadata": {},
   "outputs": [],
   "source": [
    "from lib.duckdbcontext import DuckDBContext\n",
    "import duckdb"
   ]
  },
  {
   "cell_type": "code",
   "execution_count": 9,
   "metadata": {},
   "outputs": [],
   "source": [
    "duckdb_database = \"../orchestration/db/bigdata.duckdb\""
   ]
  },
  {
   "cell_type": "markdown",
   "metadata": {},
   "source": [
    "#### Using SQL Magic Cells\n"
   ]
  },
  {
   "cell_type": "code",
   "execution_count": 10,
   "metadata": {},
   "outputs": [
    {
     "name": "stdout",
     "output_type": "stream",
     "text": [
      "The sql extension is already loaded. To reload it, use:\n",
      "  %reload_ext sql\n"
     ]
    }
   ],
   "source": [
    "%load_ext sql\n",
    "conn = duckdb.connect(duckdb_database)\n",
    "%sql conn --alias duckdb"
   ]
  },
  {
   "cell_type": "code",
   "execution_count": 11,
   "metadata": {},
   "outputs": [
    {
     "data": {
      "text/html": [
       "<span style=\"None\">Running query in &#x27;duckdb&#x27;</span>"
      ],
      "text/plain": [
       "Running query in 'duckdb'"
      ]
     },
     "metadata": {},
     "output_type": "display_data"
    },
    {
     "data": {
      "text/html": [
       "<table>\n",
       "    <thead>\n",
       "        <tr>\n",
       "            <th>database</th>\n",
       "            <th>schema</th>\n",
       "            <th>name</th>\n",
       "            <th>column_names</th>\n",
       "            <th>column_types</th>\n",
       "            <th>temporary</th>\n",
       "        </tr>\n",
       "    </thead>\n",
       "    <tbody>\n",
       "        <tr>\n",
       "            <td>bigdata</td>\n",
       "            <td>main</td>\n",
       "            <td>extra_name_basics</td>\n",
       "            <td>['nconst', 'primaryName', 'birthYear', 'deathYear', 'primaryProfession', 'knownForTitles', 'tconst']</td>\n",
       "            <td>['VARCHAR', 'VARCHAR', 'INTEGER', 'INTEGER', 'VARCHAR', 'VARCHAR', 'VARCHAR']</td>\n",
       "            <td>False</td>\n",
       "        </tr>\n",
       "        <tr>\n",
       "            <td>bigdata</td>\n",
       "            <td>main</td>\n",
       "            <td>extra_title_akas</td>\n",
       "            <td>['ordering', 'title', 'region', 'language', 'types', 'attributes', 'isOriginalTitle', 'tconst']</td>\n",
       "            <td>['INTEGER', 'VARCHAR', 'VARCHAR', 'VARCHAR', 'VARCHAR', 'VARCHAR', 'INTEGER', 'VARCHAR']</td>\n",
       "            <td>False</td>\n",
       "        </tr>\n",
       "        <tr>\n",
       "            <td>bigdata</td>\n",
       "            <td>main</td>\n",
       "            <td>extra_title_basics</td>\n",
       "            <td>['tconst', 'titleType', 'primaryTitle', 'originalTitle', 'isAdult', 'startYear', 'endYear', 'runtimeMinutes', 'genres']</td>\n",
       "            <td>['VARCHAR', 'VARCHAR', 'VARCHAR', 'VARCHAR', 'INTEGER', 'INTEGER', 'INTEGER', 'VARCHAR', 'VARCHAR']</td>\n",
       "            <td>False</td>\n",
       "        </tr>\n",
       "        <tr>\n",
       "            <td>bigdata</td>\n",
       "            <td>main</td>\n",
       "            <td>extra_title_crew</td>\n",
       "            <td>['tconst', 'directors', 'writers']</td>\n",
       "            <td>['VARCHAR', 'VARCHAR', 'VARCHAR']</td>\n",
       "            <td>False</td>\n",
       "        </tr>\n",
       "        <tr>\n",
       "            <td>bigdata</td>\n",
       "            <td>main</td>\n",
       "            <td>extra_title_principals</td>\n",
       "            <td>['tconst', 'ordering', 'nconst', 'category', 'job', 'characters']</td>\n",
       "            <td>['VARCHAR', 'INTEGER', 'VARCHAR', 'VARCHAR', 'VARCHAR', 'VARCHAR']</td>\n",
       "            <td>False</td>\n",
       "        </tr>\n",
       "        <tr>\n",
       "            <td>bigdata</td>\n",
       "            <td>main</td>\n",
       "            <td>extra_title_ratings</td>\n",
       "            <td>['tconst', 'averageRating', 'numVotes']</td>\n",
       "            <td>['VARCHAR', 'DOUBLE', 'INTEGER']</td>\n",
       "            <td>False</td>\n",
       "        </tr>\n",
       "        <tr>\n",
       "            <td>bigdata</td>\n",
       "            <td>main</td>\n",
       "            <td>imdb_directors</td>\n",
       "            <td>['movie', 'director']</td>\n",
       "            <td>['VARCHAR', 'VARCHAR']</td>\n",
       "            <td>False</td>\n",
       "        </tr>\n",
       "        <tr>\n",
       "            <td>bigdata</td>\n",
       "            <td>main</td>\n",
       "            <td>imdb_train</td>\n",
       "            <td>['tconst', 'primaryTitle', 'originalTitle', 'startYear', 'endYear', 'runtimeMinutes', 'numVotes', 'label']</td>\n",
       "            <td>['VARCHAR', 'VARCHAR', 'VARCHAR', 'INTEGER', 'INTEGER', 'INTEGER', 'DOUBLE', 'BOOLEAN']</td>\n",
       "            <td>False</td>\n",
       "        </tr>\n",
       "        <tr>\n",
       "            <td>bigdata</td>\n",
       "            <td>main</td>\n",
       "            <td>imdb_writing</td>\n",
       "            <td>['movie', 'writer']</td>\n",
       "            <td>['VARCHAR', 'VARCHAR']</td>\n",
       "            <td>False</td>\n",
       "        </tr>\n",
       "    </tbody>\n",
       "</table>"
      ],
      "text/plain": [
       "+----------+--------+------------------------+-------------------------------------------------------------------------------------------------------------------------+-----------------------------------------------------------------------------------------------------+-----------+\n",
       "| database | schema |          name          |                                                       column_names                                                      |                                             column_types                                            | temporary |\n",
       "+----------+--------+------------------------+-------------------------------------------------------------------------------------------------------------------------+-----------------------------------------------------------------------------------------------------+-----------+\n",
       "| bigdata  |  main  |   extra_name_basics    |           ['nconst', 'primaryName', 'birthYear', 'deathYear', 'primaryProfession', 'knownForTitles', 'tconst']          |            ['VARCHAR', 'VARCHAR', 'INTEGER', 'INTEGER', 'VARCHAR', 'VARCHAR', 'VARCHAR']            |   False   |\n",
       "| bigdata  |  main  |    extra_title_akas    |             ['ordering', 'title', 'region', 'language', 'types', 'attributes', 'isOriginalTitle', 'tconst']             |       ['INTEGER', 'VARCHAR', 'VARCHAR', 'VARCHAR', 'VARCHAR', 'VARCHAR', 'INTEGER', 'VARCHAR']      |   False   |\n",
       "| bigdata  |  main  |   extra_title_basics   | ['tconst', 'titleType', 'primaryTitle', 'originalTitle', 'isAdult', 'startYear', 'endYear', 'runtimeMinutes', 'genres'] | ['VARCHAR', 'VARCHAR', 'VARCHAR', 'VARCHAR', 'INTEGER', 'INTEGER', 'INTEGER', 'VARCHAR', 'VARCHAR'] |   False   |\n",
       "| bigdata  |  main  |    extra_title_crew    |                                            ['tconst', 'directors', 'writers']                                           |                                  ['VARCHAR', 'VARCHAR', 'VARCHAR']                                  |   False   |\n",
       "| bigdata  |  main  | extra_title_principals |                            ['tconst', 'ordering', 'nconst', 'category', 'job', 'characters']                            |                  ['VARCHAR', 'INTEGER', 'VARCHAR', 'VARCHAR', 'VARCHAR', 'VARCHAR']                 |   False   |\n",
       "| bigdata  |  main  |  extra_title_ratings   |                                         ['tconst', 'averageRating', 'numVotes']                                         |                                   ['VARCHAR', 'DOUBLE', 'INTEGER']                                  |   False   |\n",
       "| bigdata  |  main  |     imdb_directors     |                                                  ['movie', 'director']                                                  |                                        ['VARCHAR', 'VARCHAR']                                       |   False   |\n",
       "| bigdata  |  main  |       imdb_train       |        ['tconst', 'primaryTitle', 'originalTitle', 'startYear', 'endYear', 'runtimeMinutes', 'numVotes', 'label']       |       ['VARCHAR', 'VARCHAR', 'VARCHAR', 'INTEGER', 'INTEGER', 'INTEGER', 'DOUBLE', 'BOOLEAN']       |   False   |\n",
       "| bigdata  |  main  |      imdb_writing      |                                                   ['movie', 'writer']                                                   |                                        ['VARCHAR', 'VARCHAR']                                       |   False   |\n",
       "+----------+--------+------------------------+-------------------------------------------------------------------------------------------------------------------------+-----------------------------------------------------------------------------------------------------+-----------+"
      ]
     },
     "execution_count": 11,
     "metadata": {},
     "output_type": "execute_result"
    }
   ],
   "source": [
    "%sql SHOW ALL TABLES; # shows all available tables"
   ]
  },
  {
   "cell_type": "markdown",
   "metadata": {},
   "source": [
    "#### Using Custom Context Manager\n"
   ]
  },
  {
   "cell_type": "code",
   "execution_count": 3,
   "metadata": {},
   "outputs": [
    {
     "name": "stdout",
     "output_type": "stream",
     "text": [
      "Table: extra_name_basics\n"
     ]
    },
    {
     "data": {
      "text/html": [
       "<div><style>\n",
       ".dataframe > thead > tr,\n",
       ".dataframe > tbody > tr {\n",
       "  text-align: right;\n",
       "  white-space: pre-wrap;\n",
       "}\n",
       "</style>\n",
       "<small>shape: (5, 7)</small><table border=\"1\" class=\"dataframe\"><thead><tr><th>nconst</th><th>primaryName</th><th>birthYear</th><th>deathYear</th><th>primaryProfession</th><th>knownForTitles</th><th>tconst</th></tr><tr><td>str</td><td>str</td><td>i32</td><td>i32</td><td>str</td><td>str</td><td>str</td></tr></thead><tbody><tr><td>&quot;nm0000115&quot;</td><td>&quot;Nicolas Cage&quot;</td><td>1964</td><td>null</td><td>&quot;actor,producer…</td><td>&quot;tt0113627&quot;</td><td>&quot;tt0113627&quot;</td></tr><tr><td>&quot;nm0000147&quot;</td><td>&quot;Colin Firth&quot;</td><td>1960</td><td>null</td><td>&quot;actor,producer…</td><td>&quot;tt2802144&quot;</td><td>&quot;tt2802144&quot;</td></tr><tr><td>&quot;nm0000223&quot;</td><td>&quot;Elisabeth Shue…</td><td>1963</td><td>null</td><td>&quot;actress,produc…</td><td>&quot;tt0113627&quot;</td><td>&quot;tt0113627&quot;</td></tr><tr><td>&quot;nm0000508&quot;</td><td>&quot;Carey Lowell&quot;</td><td>1961</td><td>null</td><td>&quot;actress&quot;</td><td>&quot;tt0113627&quot;</td><td>&quot;tt0113627&quot;</td></tr><tr><td>&quot;nm0000629&quot;</td><td>&quot;Claudia Schiff…</td><td>1970</td><td>null</td><td>&quot;actress,produc…</td><td>&quot;tt2802144&quot;</td><td>&quot;tt2802144&quot;</td></tr></tbody></table></div>"
      ],
      "text/plain": [
       "shape: (5, 7)\n",
       "┌───────────┬────────────────┬───────────┬───────────┬────────────────┬────────────────┬───────────┐\n",
       "│ nconst    ┆ primaryName    ┆ birthYear ┆ deathYear ┆ primaryProfess ┆ knownForTitles ┆ tconst    │\n",
       "│ ---       ┆ ---            ┆ ---       ┆ ---       ┆ ion            ┆ ---            ┆ ---       │\n",
       "│ str       ┆ str            ┆ i32       ┆ i32       ┆ ---            ┆ str            ┆ str       │\n",
       "│           ┆                ┆           ┆           ┆ str            ┆                ┆           │\n",
       "╞═══════════╪════════════════╪═══════════╪═══════════╪════════════════╪════════════════╪═══════════╡\n",
       "│ nm0000115 ┆ Nicolas Cage   ┆ 1964      ┆ null      ┆ actor,producer ┆ tt0113627      ┆ tt0113627 │\n",
       "│           ┆                ┆           ┆           ┆ ,soundtrack    ┆                ┆           │\n",
       "│ nm0000147 ┆ Colin Firth    ┆ 1960      ┆ null      ┆ actor,producer ┆ tt2802144      ┆ tt2802144 │\n",
       "│           ┆                ┆           ┆           ┆ ,soundtrack    ┆                ┆           │\n",
       "│ nm0000223 ┆ Elisabeth Shue ┆ 1963      ┆ null      ┆ actress,produc ┆ tt0113627      ┆ tt0113627 │\n",
       "│           ┆                ┆           ┆           ┆ er,soundtrack  ┆                ┆           │\n",
       "│ nm0000508 ┆ Carey Lowell   ┆ 1961      ┆ null      ┆ actress        ┆ tt0113627      ┆ tt0113627 │\n",
       "│ nm0000629 ┆ Claudia        ┆ 1970      ┆ null      ┆ actress,produc ┆ tt2802144      ┆ tt2802144 │\n",
       "│           ┆ Schiffer       ┆           ┆           ┆ er             ┆                ┆           │\n",
       "└───────────┴────────────────┴───────────┴───────────┴────────────────┴────────────────┴───────────┘"
      ]
     },
     "metadata": {},
     "output_type": "display_data"
    },
    {
     "name": "stdout",
     "output_type": "stream",
     "text": [
      "Table: extra_title_akas\n"
     ]
    },
    {
     "data": {
      "text/html": [
       "<div><style>\n",
       ".dataframe > thead > tr,\n",
       ".dataframe > tbody > tr {\n",
       "  text-align: right;\n",
       "  white-space: pre-wrap;\n",
       "}\n",
       "</style>\n",
       "<small>shape: (5, 8)</small><table border=\"1\" class=\"dataframe\"><thead><tr><th>ordering</th><th>title</th><th>region</th><th>language</th><th>types</th><th>attributes</th><th>isOriginalTitle</th><th>tconst</th></tr><tr><td>i32</td><td>str</td><td>str</td><td>str</td><td>str</td><td>str</td><td>i32</td><td>str</td></tr></thead><tbody><tr><td>10</td><td>&quot;Les nuits de C…</td><td>&quot;CA&quot;</td><td>&quot;fr&quot;</td><td>&quot;imdbDisplay&quot;</td><td>null</td><td>0</td><td>&quot;tt0018526&quot;</td></tr><tr><td>11</td><td>&quot;Moderne Apache…</td><td>&quot;AT&quot;</td><td>null</td><td>&quot;alternative&quot;</td><td>null</td><td>0</td><td>&quot;tt0018526&quot;</td></tr><tr><td>12</td><td>&quot;Underworld&quot;</td><td>&quot;GB&quot;</td><td>null</td><td>&quot;imdbDisplay&quot;</td><td>null</td><td>0</td><td>&quot;tt0018526&quot;</td></tr><tr><td>13</td><td>&quot;Underworld&quot;</td><td>&quot;AU&quot;</td><td>null</td><td>&quot;imdbDisplay&quot;</td><td>null</td><td>0</td><td>&quot;tt0018526&quot;</td></tr><tr><td>14</td><td>&quot;Ludzie podziem…</td><td>&quot;PL&quot;</td><td>null</td><td>&quot;imdbDisplay&quot;</td><td>null</td><td>0</td><td>&quot;tt0018526&quot;</td></tr></tbody></table></div>"
      ],
      "text/plain": [
       "shape: (5, 8)\n",
       "┌──────────┬──────────────┬────────┬──────────┬─────────────┬────────────┬─────────────┬───────────┐\n",
       "│ ordering ┆ title        ┆ region ┆ language ┆ types       ┆ attributes ┆ isOriginalT ┆ tconst    │\n",
       "│ ---      ┆ ---          ┆ ---    ┆ ---      ┆ ---         ┆ ---        ┆ itle        ┆ ---       │\n",
       "│ i32      ┆ str          ┆ str    ┆ str      ┆ str         ┆ str        ┆ ---         ┆ str       │\n",
       "│          ┆              ┆        ┆          ┆             ┆            ┆ i32         ┆           │\n",
       "╞══════════╪══════════════╪════════╪══════════╪═════════════╪════════════╪═════════════╪═══════════╡\n",
       "│ 10       ┆ Les nuits de ┆ CA     ┆ fr       ┆ imdbDisplay ┆ null       ┆ 0           ┆ tt0018526 │\n",
       "│          ┆ Chicago      ┆        ┆          ┆             ┆            ┆             ┆           │\n",
       "│ 11       ┆ Moderne      ┆ AT     ┆ null     ┆ alternative ┆ null       ┆ 0           ┆ tt0018526 │\n",
       "│          ┆ Apachen      ┆        ┆          ┆             ┆            ┆             ┆           │\n",
       "│ 12       ┆ Underworld   ┆ GB     ┆ null     ┆ imdbDisplay ┆ null       ┆ 0           ┆ tt0018526 │\n",
       "│ 13       ┆ Underworld   ┆ AU     ┆ null     ┆ imdbDisplay ┆ null       ┆ 0           ┆ tt0018526 │\n",
       "│ 14       ┆ Ludzie       ┆ PL     ┆ null     ┆ imdbDisplay ┆ null       ┆ 0           ┆ tt0018526 │\n",
       "│          ┆ podziemi     ┆        ┆          ┆             ┆            ┆             ┆           │\n",
       "└──────────┴──────────────┴────────┴──────────┴─────────────┴────────────┴─────────────┴───────────┘"
      ]
     },
     "metadata": {},
     "output_type": "display_data"
    },
    {
     "name": "stdout",
     "output_type": "stream",
     "text": [
      "Table: extra_title_basics\n"
     ]
    },
    {
     "data": {
      "text/html": [
       "<div><style>\n",
       ".dataframe > thead > tr,\n",
       ".dataframe > tbody > tr {\n",
       "  text-align: right;\n",
       "  white-space: pre-wrap;\n",
       "}\n",
       "</style>\n",
       "<small>shape: (5, 9)</small><table border=\"1\" class=\"dataframe\"><thead><tr><th>tconst</th><th>titleType</th><th>primaryTitle</th><th>originalTitle</th><th>isAdult</th><th>startYear</th><th>endYear</th><th>runtimeMinutes</th><th>genres</th></tr><tr><td>str</td><td>str</td><td>str</td><td>str</td><td>i32</td><td>i32</td><td>i32</td><td>str</td><td>str</td></tr></thead><tbody><tr><td>&quot;tt0018526&quot;</td><td>&quot;movie&quot;</td><td>&quot;Underworld&quot;</td><td>&quot;Underworld&quot;</td><td>0</td><td>1927</td><td>null</td><td>&quot;80&quot;</td><td>&quot;Crime,Drama,Fi…</td></tr><tr><td>&quot;tt0039305&quot;</td><td>&quot;movie&quot;</td><td>&quot;Dead Reckoning…</td><td>&quot;Dead Reckoning…</td><td>0</td><td>1946</td><td>null</td><td>&quot;100&quot;</td><td>&quot;Crime,Drama,Fi…</td></tr><tr><td>&quot;tt0044008&quot;</td><td>&quot;movie&quot;</td><td>&quot;A Christmas Ca…</td><td>&quot;Scrooge&quot;</td><td>0</td><td>1951</td><td>null</td><td>&quot;86&quot;</td><td>&quot;Drama,Family,F…</td></tr><tr><td>&quot;tt0054412&quot;</td><td>&quot;movie&quot;</td><td>&quot;Tunes of Glory…</td><td>&quot;Tunes of Glory…</td><td>0</td><td>1960</td><td>null</td><td>&quot;107&quot;</td><td>&quot;Drama&quot;</td></tr><tr><td>&quot;tt0059538&quot;</td><td>&quot;movie&quot;</td><td>&quot;Old Surehand&quot;</td><td>&quot;Old Surehand, …</td><td>0</td><td>1965</td><td>null</td><td>&quot;90&quot;</td><td>&quot;Adventure,West…</td></tr></tbody></table></div>"
      ],
      "text/plain": [
       "shape: (5, 9)\n",
       "┌───────────┬───────────┬────────────┬───────────┬───┬───────────┬─────────┬───────────┬───────────┐\n",
       "│ tconst    ┆ titleType ┆ primaryTit ┆ originalT ┆ … ┆ startYear ┆ endYear ┆ runtimeMi ┆ genres    │\n",
       "│ ---       ┆ ---       ┆ le         ┆ itle      ┆   ┆ ---       ┆ ---     ┆ nutes     ┆ ---       │\n",
       "│ str       ┆ str       ┆ ---        ┆ ---       ┆   ┆ i32       ┆ i32     ┆ ---       ┆ str       │\n",
       "│           ┆           ┆ str        ┆ str       ┆   ┆           ┆         ┆ str       ┆           │\n",
       "╞═══════════╪═══════════╪════════════╪═══════════╪═══╪═══════════╪═════════╪═══════════╪═══════════╡\n",
       "│ tt0018526 ┆ movie     ┆ Underworld ┆ Underworl ┆ … ┆ 1927      ┆ null    ┆ 80        ┆ Crime,Dra │\n",
       "│           ┆           ┆            ┆ d         ┆   ┆           ┆         ┆           ┆ ma,Film-N │\n",
       "│           ┆           ┆            ┆           ┆   ┆           ┆         ┆           ┆ oir       │\n",
       "│ tt0039305 ┆ movie     ┆ Dead       ┆ Dead      ┆ … ┆ 1946      ┆ null    ┆ 100       ┆ Crime,Dra │\n",
       "│           ┆           ┆ Reckoning  ┆ Reckoning ┆   ┆           ┆         ┆           ┆ ma,Film-N │\n",
       "│           ┆           ┆            ┆           ┆   ┆           ┆         ┆           ┆ oir       │\n",
       "│ tt0044008 ┆ movie     ┆ A          ┆ Scrooge   ┆ … ┆ 1951      ┆ null    ┆ 86        ┆ Drama,Fam │\n",
       "│           ┆           ┆ Christmas  ┆           ┆   ┆           ┆         ┆           ┆ ily,Fanta │\n",
       "│           ┆           ┆ Carol      ┆           ┆   ┆           ┆         ┆           ┆ sy        │\n",
       "│ tt0054412 ┆ movie     ┆ Tunes of   ┆ Tunes of  ┆ … ┆ 1960      ┆ null    ┆ 107       ┆ Drama     │\n",
       "│           ┆           ┆ Glory      ┆ Glory     ┆   ┆           ┆         ┆           ┆           │\n",
       "│ tt0059538 ┆ movie     ┆ Old        ┆ Old       ┆ … ┆ 1965      ┆ null    ┆ 90        ┆ Adventure │\n",
       "│           ┆           ┆ Surehand   ┆ Surehand, ┆   ┆           ┆         ┆           ┆ ,Western  │\n",
       "│           ┆           ┆            ┆ 1. Teil   ┆   ┆           ┆         ┆           ┆           │\n",
       "└───────────┴───────────┴────────────┴───────────┴───┴───────────┴─────────┴───────────┴───────────┘"
      ]
     },
     "metadata": {},
     "output_type": "display_data"
    },
    {
     "name": "stdout",
     "output_type": "stream",
     "text": [
      "Table: extra_title_crew\n"
     ]
    },
    {
     "data": {
      "text/html": [
       "<div><style>\n",
       ".dataframe > thead > tr,\n",
       ".dataframe > tbody > tr {\n",
       "  text-align: right;\n",
       "  white-space: pre-wrap;\n",
       "}\n",
       "</style>\n",
       "<small>shape: (5, 3)</small><table border=\"1\" class=\"dataframe\"><thead><tr><th>tconst</th><th>directors</th><th>writers</th></tr><tr><td>str</td><td>str</td><td>str</td></tr></thead><tbody><tr><td>&quot;tt0018526&quot;</td><td>&quot;nm0903049,nm07…</td><td>&quot;nm0299153,nm00…</td></tr><tr><td>&quot;tt0039305&quot;</td><td>&quot;nm0188669&quot;</td><td>&quot;nm0308177,nm02…</td></tr><tr><td>&quot;tt0044008&quot;</td><td>&quot;nm0221423&quot;</td><td>&quot;nm0002042,nm04…</td></tr><tr><td>&quot;tt0054412&quot;</td><td>&quot;nm0623768&quot;</td><td>&quot;nm0447860&quot;</td></tr><tr><td>&quot;tt0059538&quot;</td><td>&quot;nm0901138&quot;</td><td>&quot;nm0562015,nm02…</td></tr></tbody></table></div>"
      ],
      "text/plain": [
       "shape: (5, 3)\n",
       "┌───────────┬─────────────────────┬───────────────────────────────────┐\n",
       "│ tconst    ┆ directors           ┆ writers                           │\n",
       "│ ---       ┆ ---                 ┆ ---                               │\n",
       "│ str       ┆ str                 ┆ str                               │\n",
       "╞═══════════╪═════════════════════╪═══════════════════════════════════╡\n",
       "│ tt0018526 ┆ nm0903049,nm0744504 ┆ nm0299153,nm0001328,nm0372942,nm… │\n",
       "│ tt0039305 ┆ nm0188669           ┆ nm0308177,nm0279795,nm0729694,nm… │\n",
       "│ tt0044008 ┆ nm0221423           ┆ nm0002042,nm0486538               │\n",
       "│ tt0054412 ┆ nm0623768           ┆ nm0447860                         │\n",
       "│ tt0059538 ┆ nm0901138           ┆ nm0562015,nm0219043,nm0445123     │\n",
       "└───────────┴─────────────────────┴───────────────────────────────────┘"
      ]
     },
     "metadata": {},
     "output_type": "display_data"
    },
    {
     "name": "stdout",
     "output_type": "stream",
     "text": [
      "Table: extra_title_principals\n"
     ]
    },
    {
     "data": {
      "text/html": [
       "<div><style>\n",
       ".dataframe > thead > tr,\n",
       ".dataframe > tbody > tr {\n",
       "  text-align: right;\n",
       "  white-space: pre-wrap;\n",
       "}\n",
       "</style>\n",
       "<small>shape: (5, 6)</small><table border=\"1\" class=\"dataframe\"><thead><tr><th>tconst</th><th>ordering</th><th>nconst</th><th>category</th><th>job</th><th>characters</th></tr><tr><td>str</td><td>i32</td><td>str</td><td>str</td><td>str</td><td>str</td></tr></thead><tbody><tr><td>&quot;tt0018526&quot;</td><td>10</td><td>&quot;nm0498133&quot;</td><td>&quot;writer&quot;</td><td>&quot;adaptation&quot;</td><td>null</td></tr><tr><td>&quot;tt0018526&quot;</td><td>1</td><td>&quot;nm0051628&quot;</td><td>&quot;actor&quot;</td><td>null</td><td>&quot;[&quot;&#x27;Bull&#x27; Weed&quot;…</td></tr><tr><td>&quot;tt0018526&quot;</td><td>2</td><td>&quot;nm0111612&quot;</td><td>&quot;actor&quot;</td><td>null</td><td>&quot;[&quot;Rolls Royce …</td></tr><tr><td>&quot;tt0018526&quot;</td><td>3</td><td>&quot;nm0107574&quot;</td><td>&quot;actress&quot;</td><td>null</td><td>&quot;[&quot;&#x27;Feathers&#x27; M…</td></tr><tr><td>&quot;tt0018526&quot;</td><td>4</td><td>&quot;nm0463264&quot;</td><td>&quot;actor&quot;</td><td>null</td><td>&quot;[&quot;&#x27;Buck&#x27; Mulli…</td></tr></tbody></table></div>"
      ],
      "text/plain": [
       "shape: (5, 6)\n",
       "┌───────────┬──────────┬───────────┬──────────┬────────────┬────────────────────────┐\n",
       "│ tconst    ┆ ordering ┆ nconst    ┆ category ┆ job        ┆ characters             │\n",
       "│ ---       ┆ ---      ┆ ---       ┆ ---      ┆ ---        ┆ ---                    │\n",
       "│ str       ┆ i32      ┆ str       ┆ str      ┆ str        ┆ str                    │\n",
       "╞═══════════╪══════════╪═══════════╪══════════╪════════════╪════════════════════════╡\n",
       "│ tt0018526 ┆ 10       ┆ nm0498133 ┆ writer   ┆ adaptation ┆ null                   │\n",
       "│ tt0018526 ┆ 1        ┆ nm0051628 ┆ actor    ┆ null       ┆ [\"'Bull' Weed\"]        │\n",
       "│ tt0018526 ┆ 2        ┆ nm0111612 ┆ actor    ┆ null       ┆ [\"Rolls Royce Wensel\"] │\n",
       "│ tt0018526 ┆ 3        ┆ nm0107574 ┆ actress  ┆ null       ┆ [\"'Feathers' McCoy\"]   │\n",
       "│ tt0018526 ┆ 4        ┆ nm0463264 ┆ actor    ┆ null       ┆ [\"'Buck' Mulligan\"]    │\n",
       "└───────────┴──────────┴───────────┴──────────┴────────────┴────────────────────────┘"
      ]
     },
     "metadata": {},
     "output_type": "display_data"
    },
    {
     "name": "stdout",
     "output_type": "stream",
     "text": [
      "Table: extra_title_ratings\n"
     ]
    },
    {
     "data": {
      "text/html": [
       "<div><style>\n",
       ".dataframe > thead > tr,\n",
       ".dataframe > tbody > tr {\n",
       "  text-align: right;\n",
       "  white-space: pre-wrap;\n",
       "}\n",
       "</style>\n",
       "<small>shape: (5, 3)</small><table border=\"1\" class=\"dataframe\"><thead><tr><th>tconst</th><th>averageRating</th><th>numVotes</th></tr><tr><td>str</td><td>f64</td><td>i32</td></tr></thead><tbody><tr><td>&quot;tt0014109&quot;</td><td>7.0</td><td>1371</td></tr><tr><td>&quot;tt0015064&quot;</td><td>8.0</td><td>15123</td></tr><tr><td>&quot;tt0015841&quot;</td><td>7.5</td><td>6039</td></tr><tr><td>&quot;tt0017271&quot;</td><td>7.6</td><td>1229</td></tr><tr><td>&quot;tt0018451&quot;</td><td>7.6</td><td>1657</td></tr></tbody></table></div>"
      ],
      "text/plain": [
       "shape: (5, 3)\n",
       "┌───────────┬───────────────┬──────────┐\n",
       "│ tconst    ┆ averageRating ┆ numVotes │\n",
       "│ ---       ┆ ---           ┆ ---      │\n",
       "│ str       ┆ f64           ┆ i32      │\n",
       "╞═══════════╪═══════════════╪══════════╡\n",
       "│ tt0014109 ┆ 7.0           ┆ 1371     │\n",
       "│ tt0015064 ┆ 8.0           ┆ 15123    │\n",
       "│ tt0015841 ┆ 7.5           ┆ 6039     │\n",
       "│ tt0017271 ┆ 7.6           ┆ 1229     │\n",
       "│ tt0018451 ┆ 7.6           ┆ 1657     │\n",
       "└───────────┴───────────────┴──────────┘"
      ]
     },
     "metadata": {},
     "output_type": "display_data"
    },
    {
     "name": "stdout",
     "output_type": "stream",
     "text": [
      "Table: imdb_directors\n"
     ]
    },
    {
     "data": {
      "text/html": [
       "<div><style>\n",
       ".dataframe > thead > tr,\n",
       ".dataframe > tbody > tr {\n",
       "  text-align: right;\n",
       "  white-space: pre-wrap;\n",
       "}\n",
       "</style>\n",
       "<small>shape: (5, 2)</small><table border=\"1\" class=\"dataframe\"><thead><tr><th>movie</th><th>director</th></tr><tr><td>str</td><td>str</td></tr></thead><tbody><tr><td>&quot;tt0003740&quot;</td><td>&quot;nm0665163&quot;</td></tr><tr><td>&quot;tt0008663&quot;</td><td>&quot;nm0803705&quot;</td></tr><tr><td>&quot;tt0009369&quot;</td><td>&quot;nm0428059&quot;</td></tr><tr><td>&quot;tt0009369&quot;</td><td>&quot;nm0949648&quot;</td></tr><tr><td>&quot;tt0010307&quot;</td><td>&quot;nm0304098&quot;</td></tr></tbody></table></div>"
      ],
      "text/plain": [
       "shape: (5, 2)\n",
       "┌───────────┬───────────┐\n",
       "│ movie     ┆ director  │\n",
       "│ ---       ┆ ---       │\n",
       "│ str       ┆ str       │\n",
       "╞═══════════╪═══════════╡\n",
       "│ tt0003740 ┆ nm0665163 │\n",
       "│ tt0008663 ┆ nm0803705 │\n",
       "│ tt0009369 ┆ nm0428059 │\n",
       "│ tt0009369 ┆ nm0949648 │\n",
       "│ tt0010307 ┆ nm0304098 │\n",
       "└───────────┴───────────┘"
      ]
     },
     "metadata": {},
     "output_type": "display_data"
    },
    {
     "name": "stdout",
     "output_type": "stream",
     "text": [
      "Table: imdb_train\n"
     ]
    },
    {
     "data": {
      "text/html": [
       "<div><style>\n",
       ".dataframe > thead > tr,\n",
       ".dataframe > tbody > tr {\n",
       "  text-align: right;\n",
       "  white-space: pre-wrap;\n",
       "}\n",
       "</style>\n",
       "<small>shape: (5, 8)</small><table border=\"1\" class=\"dataframe\"><thead><tr><th>tconst</th><th>primaryTitle</th><th>originalTitle</th><th>startYear</th><th>endYear</th><th>runtimeMinutes</th><th>numVotes</th><th>label</th></tr><tr><td>str</td><td>str</td><td>str</td><td>i32</td><td>i32</td><td>i32</td><td>f64</td><td>bool</td></tr></thead><tbody><tr><td>&quot;tt0014109&quot;</td><td>&quot;The Saga of Gö…</td><td>null</td><td>1924</td><td>null</td><td>183</td><td>1231.0</td><td>true</td></tr><tr><td>&quot;tt0015064&quot;</td><td>&quot;The Last Laugh…</td><td>&quot;Der letzte Man…</td><td>1924</td><td>null</td><td>77</td><td>null</td><td>true</td></tr><tr><td>&quot;tt0015841&quot;</td><td>&quot;The Freshman&quot;</td><td>&quot;The Freshman&quot;</td><td>1925</td><td>null</td><td>77</td><td>5374.0</td><td>true</td></tr><tr><td>&quot;tt0017271&quot;</td><td>&quot;By the Law&quot;</td><td>null</td><td>null</td><td>1926</td><td>80</td><td>1057.0</td><td>true</td></tr><tr><td>&quot;tt0018451&quot;</td><td>&quot;The Student Pr…</td><td>null</td><td>1927</td><td>null</td><td>106</td><td>1459.0</td><td>true</td></tr></tbody></table></div>"
      ],
      "text/plain": [
       "shape: (5, 8)\n",
       "┌───────────┬───────────────┬──────────────┬───────────┬─────────┬──────────────┬──────────┬───────┐\n",
       "│ tconst    ┆ primaryTitle  ┆ originalTitl ┆ startYear ┆ endYear ┆ runtimeMinut ┆ numVotes ┆ label │\n",
       "│ ---       ┆ ---           ┆ e            ┆ ---       ┆ ---     ┆ es           ┆ ---      ┆ ---   │\n",
       "│ str       ┆ str           ┆ ---          ┆ i32       ┆ i32     ┆ ---          ┆ f64      ┆ bool  │\n",
       "│           ┆               ┆ str          ┆           ┆         ┆ i32          ┆          ┆       │\n",
       "╞═══════════╪═══════════════╪══════════════╪═══════════╪═════════╪══════════════╪══════════╪═══════╡\n",
       "│ tt0014109 ┆ The Saga of   ┆ null         ┆ 1924      ┆ null    ┆ 183          ┆ 1231.0   ┆ true  │\n",
       "│           ┆ Gösta Berling ┆              ┆           ┆         ┆              ┆          ┆       │\n",
       "│ tt0015064 ┆ The Last      ┆ Der letzte   ┆ 1924      ┆ null    ┆ 77           ┆ null     ┆ true  │\n",
       "│           ┆ Laugh         ┆ Mann         ┆           ┆         ┆              ┆          ┆       │\n",
       "│ tt0015841 ┆ The Freshman  ┆ The Freshman ┆ 1925      ┆ null    ┆ 77           ┆ 5374.0   ┆ true  │\n",
       "│ tt0017271 ┆ By the Law    ┆ null         ┆ null      ┆ 1926    ┆ 80           ┆ 1057.0   ┆ true  │\n",
       "│ tt0018451 ┆ The Student   ┆ null         ┆ 1927      ┆ null    ┆ 106          ┆ 1459.0   ┆ true  │\n",
       "│           ┆ Prince in Old ┆              ┆           ┆         ┆              ┆          ┆       │\n",
       "│           ┆ Heidel…       ┆              ┆           ┆         ┆              ┆          ┆       │\n",
       "└───────────┴───────────────┴──────────────┴───────────┴─────────┴──────────────┴──────────┴───────┘"
      ]
     },
     "metadata": {},
     "output_type": "display_data"
    },
    {
     "name": "stdout",
     "output_type": "stream",
     "text": [
      "Table: imdb_writing\n"
     ]
    },
    {
     "data": {
      "text/html": [
       "<div><style>\n",
       ".dataframe > thead > tr,\n",
       ".dataframe > tbody > tr {\n",
       "  text-align: right;\n",
       "  white-space: pre-wrap;\n",
       "}\n",
       "</style>\n",
       "<small>shape: (5, 2)</small><table border=\"1\" class=\"dataframe\"><thead><tr><th>movie</th><th>writer</th></tr><tr><td>str</td><td>str</td></tr></thead><tbody><tr><td>&quot;tt0003740&quot;</td><td>&quot;nm0195339&quot;</td></tr><tr><td>&quot;tt0003740&quot;</td><td>&quot;nm0515385&quot;</td></tr><tr><td>&quot;tt0003740&quot;</td><td>&quot;nm0665163&quot;</td></tr><tr><td>&quot;tt0003740&quot;</td><td>&quot;nm0758215&quot;</td></tr><tr><td>&quot;tt0008663&quot;</td><td>&quot;nm0406585&quot;</td></tr></tbody></table></div>"
      ],
      "text/plain": [
       "shape: (5, 2)\n",
       "┌───────────┬───────────┐\n",
       "│ movie     ┆ writer    │\n",
       "│ ---       ┆ ---       │\n",
       "│ str       ┆ str       │\n",
       "╞═══════════╪═══════════╡\n",
       "│ tt0003740 ┆ nm0195339 │\n",
       "│ tt0003740 ┆ nm0515385 │\n",
       "│ tt0003740 ┆ nm0665163 │\n",
       "│ tt0003740 ┆ nm0758215 │\n",
       "│ tt0008663 ┆ nm0406585 │\n",
       "└───────────┴───────────┘"
      ]
     },
     "metadata": {},
     "output_type": "display_data"
    }
   ],
   "source": [
    "# Usage\n",
    "with DuckDBContext(duckdb_database) as ctx:\n",
    "    ctx.show_tables_info(as_dataframe=True)"
   ]
  },
  {
   "cell_type": "code",
   "execution_count": null,
   "metadata": {},
   "outputs": [],
   "source": []
  }
 ],
 "metadata": {
  "kernelspec": {
   "display_name": "Python 3",
   "language": "python",
   "name": "python3"
  },
  "language_info": {
   "codemirror_mode": {
    "name": "ipython",
    "version": 3
   },
   "file_extension": ".py",
   "mimetype": "text/x-python",
   "name": "python",
   "nbconvert_exporter": "python",
   "pygments_lexer": "ipython3",
   "version": "3.10.13"
  }
 },
 "nbformat": 4,
 "nbformat_minor": 2
}
