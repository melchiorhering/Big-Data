{
 "cells": [
  {
   "cell_type": "markdown",
   "metadata": {},
   "source": [
    "# Check Data Warehouse\n",
    "\n",
    "### Import\n"
   ]
  },
  {
   "cell_type": "code",
   "execution_count": 1,
   "metadata": {},
   "outputs": [],
   "source": [
    "from lib.duckdbcontext import DuckDBContext\n",
    "import duckdb"
   ]
  },
  {
   "cell_type": "code",
   "execution_count": 3,
   "metadata": {},
   "outputs": [],
   "source": [
    "duckdb_database = \"../orchestration/db/bigdata.duckdb\""
   ]
  },
  {
   "cell_type": "markdown",
   "metadata": {},
   "source": [
    "#### Using SQL Magic Cells\n"
   ]
  },
  {
   "cell_type": "code",
   "execution_count": 7,
   "metadata": {},
   "outputs": [
    {
     "name": "stdout",
     "output_type": "stream",
     "text": [
      "The sql extension is already loaded. To reload it, use:\n",
      "  %reload_ext sql\n"
     ]
    }
   ],
   "source": [
    "%load_ext sql\n",
    "conn = duckdb.connect(duckdb_database)\n",
    "%sql conn --alias duckdb"
   ]
  },
  {
   "cell_type": "code",
   "execution_count": 8,
   "metadata": {},
   "outputs": [
    {
     "data": {
      "text/html": [
       "<span style=\"None\">Running query in &#x27;duckdb&#x27;</span>"
      ],
      "text/plain": [
       "Running query in 'duckdb'"
      ]
     },
     "metadata": {},
     "output_type": "display_data"
    },
    {
     "data": {
      "text/html": [
       "<table>\n",
       "    <thead>\n",
       "        <tr>\n",
       "            <th>database</th>\n",
       "            <th>schema</th>\n",
       "            <th>name</th>\n",
       "            <th>column_names</th>\n",
       "            <th>column_types</th>\n",
       "            <th>temporary</th>\n",
       "        </tr>\n",
       "    </thead>\n",
       "    <tbody>\n",
       "        <tr>\n",
       "            <td>bigdata</td>\n",
       "            <td>main</td>\n",
       "            <td>extra_name_basics</td>\n",
       "            <td>['nconst', 'primaryName', 'birthYear', 'deathYear', 'primaryProfession', 'knownForTitles', 'tconst']</td>\n",
       "            <td>['VARCHAR', 'VARCHAR', 'INTEGER', 'INTEGER', 'VARCHAR', 'VARCHAR', 'VARCHAR']</td>\n",
       "            <td>False</td>\n",
       "        </tr>\n",
       "        <tr>\n",
       "            <td>bigdata</td>\n",
       "            <td>main</td>\n",
       "            <td>extra_title_akas</td>\n",
       "            <td>['ordering', 'title', 'region', 'language', 'types', 'attributes', 'isOriginalTitle', 'tconst']</td>\n",
       "            <td>['INTEGER', 'VARCHAR', 'VARCHAR', 'VARCHAR', 'VARCHAR', 'VARCHAR', 'INTEGER', 'VARCHAR']</td>\n",
       "            <td>False</td>\n",
       "        </tr>\n",
       "        <tr>\n",
       "            <td>bigdata</td>\n",
       "            <td>main</td>\n",
       "            <td>extra_title_basics</td>\n",
       "            <td>['tconst', 'titleType', 'primaryTitle', 'originalTitle', 'isAdult', 'startYear', 'endYear', 'runtimeMinutes', 'genres']</td>\n",
       "            <td>['VARCHAR', 'VARCHAR', 'VARCHAR', 'VARCHAR', 'INTEGER', 'INTEGER', 'INTEGER', 'VARCHAR', 'VARCHAR']</td>\n",
       "            <td>False</td>\n",
       "        </tr>\n",
       "        <tr>\n",
       "            <td>bigdata</td>\n",
       "            <td>main</td>\n",
       "            <td>extra_title_crew</td>\n",
       "            <td>['tconst', 'directors', 'writers']</td>\n",
       "            <td>['VARCHAR', 'VARCHAR', 'VARCHAR']</td>\n",
       "            <td>False</td>\n",
       "        </tr>\n",
       "        <tr>\n",
       "            <td>bigdata</td>\n",
       "            <td>main</td>\n",
       "            <td>extra_title_principals</td>\n",
       "            <td>['tconst', 'ordering', 'nconst', 'category', 'job', 'characters']</td>\n",
       "            <td>['VARCHAR', 'INTEGER', 'VARCHAR', 'VARCHAR', 'VARCHAR', 'VARCHAR']</td>\n",
       "            <td>False</td>\n",
       "        </tr>\n",
       "        <tr>\n",
       "            <td>bigdata</td>\n",
       "            <td>main</td>\n",
       "            <td>extra_title_ratings</td>\n",
       "            <td>['tconst', 'averageRating', 'numVotes']</td>\n",
       "            <td>['VARCHAR', 'DOUBLE', 'INTEGER']</td>\n",
       "            <td>False</td>\n",
       "        </tr>\n",
       "        <tr>\n",
       "            <td>bigdata</td>\n",
       "            <td>main</td>\n",
       "            <td>imdb_directors</td>\n",
       "            <td>['movie', 'director']</td>\n",
       "            <td>['VARCHAR', 'VARCHAR']</td>\n",
       "            <td>False</td>\n",
       "        </tr>\n",
       "        <tr>\n",
       "            <td>bigdata</td>\n",
       "            <td>main</td>\n",
       "            <td>imdb_train</td>\n",
       "            <td>['tconst', 'primaryTitle', 'originalTitle', 'startYear', 'endYear', 'runtimeMinutes', 'numVotes', 'label']</td>\n",
       "            <td>['VARCHAR', 'VARCHAR', 'VARCHAR', 'INTEGER', 'INTEGER', 'INTEGER', 'DOUBLE', 'BOOLEAN']</td>\n",
       "            <td>False</td>\n",
       "        </tr>\n",
       "        <tr>\n",
       "            <td>bigdata</td>\n",
       "            <td>main</td>\n",
       "            <td>imdb_writing</td>\n",
       "            <td>['movie', 'writer']</td>\n",
       "            <td>['VARCHAR', 'VARCHAR']</td>\n",
       "            <td>False</td>\n",
       "        </tr>\n",
       "        <tr>\n",
       "            <td>bigdata</td>\n",
       "            <td>main</td>\n",
       "            <td>letterboxd_movie_ratings_data</td>\n",
       "            <td>['_id', 'movie_id', 'movie_title', 'original_language', 'popularity', 'release_date', 'runtime', 'vote_average', 'vote_count', 'year_released', 'tconst', 'genre', 'production_countrie', 'spoken_language']</td>\n",
       "            <td>['VARCHAR', 'VARCHAR', 'VARCHAR', 'VARCHAR', 'VARCHAR', 'VARCHAR', 'VARCHAR', 'VARCHAR', 'VARCHAR', 'VARCHAR', 'VARCHAR', 'VARCHAR', 'VARCHAR', 'VARCHAR']</td>\n",
       "            <td>False</td>\n",
       "        </tr>\n",
       "    </tbody>\n",
       "</table>\n",
       "<span style=\"font-style:italic;text-align:center;\">Truncated to <a href=\"https://jupysql.ploomber.io/en/latest/api/configuration.html#displaylimit\">displaylimit</a> of 10.</span>"
      ],
      "text/plain": [
       "+----------+--------+-------------------------------+--------------------------------------------------------------------------------------------------------------------------------------------------------------------------------------------------------------+------------------------------------------------------------------------------------------------------------------------------------------------------------+-----------+\n",
       "| database | schema |              name             |                                                                                                 column_names                                                                                                 |                                                                        column_types                                                                        | temporary |\n",
       "+----------+--------+-------------------------------+--------------------------------------------------------------------------------------------------------------------------------------------------------------------------------------------------------------+------------------------------------------------------------------------------------------------------------------------------------------------------------+-----------+\n",
       "| bigdata  |  main  |       extra_name_basics       |                                                     ['nconst', 'primaryName', 'birthYear', 'deathYear', 'primaryProfession', 'knownForTitles', 'tconst']                                                     |                                       ['VARCHAR', 'VARCHAR', 'INTEGER', 'INTEGER', 'VARCHAR', 'VARCHAR', 'VARCHAR']                                        |   False   |\n",
       "| bigdata  |  main  |        extra_title_akas       |                                                       ['ordering', 'title', 'region', 'language', 'types', 'attributes', 'isOriginalTitle', 'tconst']                                                        |                                  ['INTEGER', 'VARCHAR', 'VARCHAR', 'VARCHAR', 'VARCHAR', 'VARCHAR', 'INTEGER', 'VARCHAR']                                  |   False   |\n",
       "| bigdata  |  main  |       extra_title_basics      |                                           ['tconst', 'titleType', 'primaryTitle', 'originalTitle', 'isAdult', 'startYear', 'endYear', 'runtimeMinutes', 'genres']                                            |                            ['VARCHAR', 'VARCHAR', 'VARCHAR', 'VARCHAR', 'INTEGER', 'INTEGER', 'INTEGER', 'VARCHAR', 'VARCHAR']                             |   False   |\n",
       "| bigdata  |  main  |        extra_title_crew       |                                                                                      ['tconst', 'directors', 'writers']                                                                                      |                                                             ['VARCHAR', 'VARCHAR', 'VARCHAR']                                                              |   False   |\n",
       "| bigdata  |  main  |     extra_title_principals    |                                                                      ['tconst', 'ordering', 'nconst', 'category', 'job', 'characters']                                                                       |                                             ['VARCHAR', 'INTEGER', 'VARCHAR', 'VARCHAR', 'VARCHAR', 'VARCHAR']                                             |   False   |\n",
       "| bigdata  |  main  |      extra_title_ratings      |                                                                                   ['tconst', 'averageRating', 'numVotes']                                                                                    |                                                              ['VARCHAR', 'DOUBLE', 'INTEGER']                                                              |   False   |\n",
       "| bigdata  |  main  |         imdb_directors        |                                                                                            ['movie', 'director']                                                                                             |                                                                   ['VARCHAR', 'VARCHAR']                                                                   |   False   |\n",
       "| bigdata  |  main  |           imdb_train          |                                                  ['tconst', 'primaryTitle', 'originalTitle', 'startYear', 'endYear', 'runtimeMinutes', 'numVotes', 'label']                                                  |                                  ['VARCHAR', 'VARCHAR', 'VARCHAR', 'INTEGER', 'INTEGER', 'INTEGER', 'DOUBLE', 'BOOLEAN']                                   |   False   |\n",
       "| bigdata  |  main  |          imdb_writing         |                                                                                             ['movie', 'writer']                                                                                              |                                                                   ['VARCHAR', 'VARCHAR']                                                                   |   False   |\n",
       "| bigdata  |  main  | letterboxd_movie_ratings_data | ['_id', 'movie_id', 'movie_title', 'original_language', 'popularity', 'release_date', 'runtime', 'vote_average', 'vote_count', 'year_released', 'tconst', 'genre', 'production_countrie', 'spoken_language'] | ['VARCHAR', 'VARCHAR', 'VARCHAR', 'VARCHAR', 'VARCHAR', 'VARCHAR', 'VARCHAR', 'VARCHAR', 'VARCHAR', 'VARCHAR', 'VARCHAR', 'VARCHAR', 'VARCHAR', 'VARCHAR'] |   False   |\n",
       "+----------+--------+-------------------------------+--------------------------------------------------------------------------------------------------------------------------------------------------------------------------------------------------------------+------------------------------------------------------------------------------------------------------------------------------------------------------------+-----------+\n",
       "Truncated to displaylimit of 10."
      ]
     },
     "execution_count": 8,
     "metadata": {},
     "output_type": "execute_result"
    }
   ],
   "source": [
    "%sql SHOW ALL TABLES; # shows all available tables"
   ]
  },
  {
   "cell_type": "code",
   "execution_count": 10,
   "metadata": {},
   "outputs": [],
   "source": [
    "conn.close()"
   ]
  },
  {
   "cell_type": "markdown",
   "metadata": {},
   "source": [
    "#### Using Custom Context Manager\n"
   ]
  },
  {
   "cell_type": "code",
   "execution_count": 9,
   "metadata": {},
   "outputs": [
    {
     "name": "stdout",
     "output_type": "stream",
     "text": [
      "Table: extra_name_basics\n"
     ]
    },
    {
     "data": {
      "text/html": [
       "<div><style>\n",
       ".dataframe > thead > tr,\n",
       ".dataframe > tbody > tr {\n",
       "  text-align: right;\n",
       "  white-space: pre-wrap;\n",
       "}\n",
       "</style>\n",
       "<small>shape: (5, 7)</small><table border=\"1\" class=\"dataframe\"><thead><tr><th>nconst</th><th>primaryName</th><th>birthYear</th><th>deathYear</th><th>primaryProfession</th><th>knownForTitles</th><th>tconst</th></tr><tr><td>str</td><td>str</td><td>i32</td><td>i32</td><td>str</td><td>str</td><td>str</td></tr></thead><tbody><tr><td>&quot;nm0000115&quot;</td><td>&quot;Nicolas Cage&quot;</td><td>1964</td><td>null</td><td>&quot;actor,producer…</td><td>&quot;tt0113627&quot;</td><td>&quot;tt0113627&quot;</td></tr><tr><td>&quot;nm0000147&quot;</td><td>&quot;Colin Firth&quot;</td><td>1960</td><td>null</td><td>&quot;actor,producer…</td><td>&quot;tt2802144&quot;</td><td>&quot;tt2802144&quot;</td></tr><tr><td>&quot;nm0000223&quot;</td><td>&quot;Elisabeth Shue…</td><td>1963</td><td>null</td><td>&quot;actress,produc…</td><td>&quot;tt0113627&quot;</td><td>&quot;tt0113627&quot;</td></tr><tr><td>&quot;nm0000508&quot;</td><td>&quot;Carey Lowell&quot;</td><td>1961</td><td>null</td><td>&quot;actress&quot;</td><td>&quot;tt0113627&quot;</td><td>&quot;tt0113627&quot;</td></tr><tr><td>&quot;nm0000629&quot;</td><td>&quot;Claudia Schiff…</td><td>1970</td><td>null</td><td>&quot;actress,produc…</td><td>&quot;tt2802144&quot;</td><td>&quot;tt2802144&quot;</td></tr></tbody></table></div>"
      ],
      "text/plain": [
       "shape: (5, 7)\n",
       "┌───────────┬────────────────┬───────────┬───────────┬────────────────┬────────────────┬───────────┐\n",
       "│ nconst    ┆ primaryName    ┆ birthYear ┆ deathYear ┆ primaryProfess ┆ knownForTitles ┆ tconst    │\n",
       "│ ---       ┆ ---            ┆ ---       ┆ ---       ┆ ion            ┆ ---            ┆ ---       │\n",
       "│ str       ┆ str            ┆ i32       ┆ i32       ┆ ---            ┆ str            ┆ str       │\n",
       "│           ┆                ┆           ┆           ┆ str            ┆                ┆           │\n",
       "╞═══════════╪════════════════╪═══════════╪═══════════╪════════════════╪════════════════╪═══════════╡\n",
       "│ nm0000115 ┆ Nicolas Cage   ┆ 1964      ┆ null      ┆ actor,producer ┆ tt0113627      ┆ tt0113627 │\n",
       "│           ┆                ┆           ┆           ┆ ,soundtrack    ┆                ┆           │\n",
       "│ nm0000147 ┆ Colin Firth    ┆ 1960      ┆ null      ┆ actor,producer ┆ tt2802144      ┆ tt2802144 │\n",
       "│           ┆                ┆           ┆           ┆ ,soundtrack    ┆                ┆           │\n",
       "│ nm0000223 ┆ Elisabeth Shue ┆ 1963      ┆ null      ┆ actress,produc ┆ tt0113627      ┆ tt0113627 │\n",
       "│           ┆                ┆           ┆           ┆ er,soundtrack  ┆                ┆           │\n",
       "│ nm0000508 ┆ Carey Lowell   ┆ 1961      ┆ null      ┆ actress        ┆ tt0113627      ┆ tt0113627 │\n",
       "│ nm0000629 ┆ Claudia        ┆ 1970      ┆ null      ┆ actress,produc ┆ tt2802144      ┆ tt2802144 │\n",
       "│           ┆ Schiffer       ┆           ┆           ┆ er             ┆                ┆           │\n",
       "└───────────┴────────────────┴───────────┴───────────┴────────────────┴────────────────┴───────────┘"
      ]
     },
     "metadata": {},
     "output_type": "display_data"
    },
    {
     "name": "stdout",
     "output_type": "stream",
     "text": [
      "Table: extra_title_akas\n"
     ]
    },
    {
     "data": {
      "text/html": [
       "<div><style>\n",
       ".dataframe > thead > tr,\n",
       ".dataframe > tbody > tr {\n",
       "  text-align: right;\n",
       "  white-space: pre-wrap;\n",
       "}\n",
       "</style>\n",
       "<small>shape: (5, 8)</small><table border=\"1\" class=\"dataframe\"><thead><tr><th>ordering</th><th>title</th><th>region</th><th>language</th><th>types</th><th>attributes</th><th>isOriginalTitle</th><th>tconst</th></tr><tr><td>i32</td><td>str</td><td>str</td><td>str</td><td>str</td><td>str</td><td>i32</td><td>str</td></tr></thead><tbody><tr><td>10</td><td>&quot;Les nuits de C…</td><td>&quot;CA&quot;</td><td>&quot;fr&quot;</td><td>&quot;imdbDisplay&quot;</td><td>null</td><td>0</td><td>&quot;tt0018526&quot;</td></tr><tr><td>11</td><td>&quot;Moderne Apache…</td><td>&quot;AT&quot;</td><td>null</td><td>&quot;alternative&quot;</td><td>null</td><td>0</td><td>&quot;tt0018526&quot;</td></tr><tr><td>12</td><td>&quot;Underworld&quot;</td><td>&quot;GB&quot;</td><td>null</td><td>&quot;imdbDisplay&quot;</td><td>null</td><td>0</td><td>&quot;tt0018526&quot;</td></tr><tr><td>13</td><td>&quot;Underworld&quot;</td><td>&quot;AU&quot;</td><td>null</td><td>&quot;imdbDisplay&quot;</td><td>null</td><td>0</td><td>&quot;tt0018526&quot;</td></tr><tr><td>14</td><td>&quot;Ludzie podziem…</td><td>&quot;PL&quot;</td><td>null</td><td>&quot;imdbDisplay&quot;</td><td>null</td><td>0</td><td>&quot;tt0018526&quot;</td></tr></tbody></table></div>"
      ],
      "text/plain": [
       "shape: (5, 8)\n",
       "┌──────────┬──────────────┬────────┬──────────┬─────────────┬────────────┬─────────────┬───────────┐\n",
       "│ ordering ┆ title        ┆ region ┆ language ┆ types       ┆ attributes ┆ isOriginalT ┆ tconst    │\n",
       "│ ---      ┆ ---          ┆ ---    ┆ ---      ┆ ---         ┆ ---        ┆ itle        ┆ ---       │\n",
       "│ i32      ┆ str          ┆ str    ┆ str      ┆ str         ┆ str        ┆ ---         ┆ str       │\n",
       "│          ┆              ┆        ┆          ┆             ┆            ┆ i32         ┆           │\n",
       "╞══════════╪══════════════╪════════╪══════════╪═════════════╪════════════╪═════════════╪═══════════╡\n",
       "│ 10       ┆ Les nuits de ┆ CA     ┆ fr       ┆ imdbDisplay ┆ null       ┆ 0           ┆ tt0018526 │\n",
       "│          ┆ Chicago      ┆        ┆          ┆             ┆            ┆             ┆           │\n",
       "│ 11       ┆ Moderne      ┆ AT     ┆ null     ┆ alternative ┆ null       ┆ 0           ┆ tt0018526 │\n",
       "│          ┆ Apachen      ┆        ┆          ┆             ┆            ┆             ┆           │\n",
       "│ 12       ┆ Underworld   ┆ GB     ┆ null     ┆ imdbDisplay ┆ null       ┆ 0           ┆ tt0018526 │\n",
       "│ 13       ┆ Underworld   ┆ AU     ┆ null     ┆ imdbDisplay ┆ null       ┆ 0           ┆ tt0018526 │\n",
       "│ 14       ┆ Ludzie       ┆ PL     ┆ null     ┆ imdbDisplay ┆ null       ┆ 0           ┆ tt0018526 │\n",
       "│          ┆ podziemi     ┆        ┆          ┆             ┆            ┆             ┆           │\n",
       "└──────────┴──────────────┴────────┴──────────┴─────────────┴────────────┴─────────────┴───────────┘"
      ]
     },
     "metadata": {},
     "output_type": "display_data"
    },
    {
     "name": "stdout",
     "output_type": "stream",
     "text": [
      "Table: extra_title_basics\n"
     ]
    },
    {
     "data": {
      "text/html": [
       "<div><style>\n",
       ".dataframe > thead > tr,\n",
       ".dataframe > tbody > tr {\n",
       "  text-align: right;\n",
       "  white-space: pre-wrap;\n",
       "}\n",
       "</style>\n",
       "<small>shape: (5, 9)</small><table border=\"1\" class=\"dataframe\"><thead><tr><th>tconst</th><th>titleType</th><th>primaryTitle</th><th>originalTitle</th><th>isAdult</th><th>startYear</th><th>endYear</th><th>runtimeMinutes</th><th>genres</th></tr><tr><td>str</td><td>str</td><td>str</td><td>str</td><td>i32</td><td>i32</td><td>i32</td><td>str</td><td>str</td></tr></thead><tbody><tr><td>&quot;tt0018526&quot;</td><td>&quot;movie&quot;</td><td>&quot;Underworld&quot;</td><td>&quot;Underworld&quot;</td><td>0</td><td>1927</td><td>null</td><td>&quot;80&quot;</td><td>&quot;Crime,Drama,Fi…</td></tr><tr><td>&quot;tt0039305&quot;</td><td>&quot;movie&quot;</td><td>&quot;Dead Reckoning…</td><td>&quot;Dead Reckoning…</td><td>0</td><td>1946</td><td>null</td><td>&quot;100&quot;</td><td>&quot;Crime,Drama,Fi…</td></tr><tr><td>&quot;tt0044008&quot;</td><td>&quot;movie&quot;</td><td>&quot;A Christmas Ca…</td><td>&quot;Scrooge&quot;</td><td>0</td><td>1951</td><td>null</td><td>&quot;86&quot;</td><td>&quot;Drama,Family,F…</td></tr><tr><td>&quot;tt0054412&quot;</td><td>&quot;movie&quot;</td><td>&quot;Tunes of Glory…</td><td>&quot;Tunes of Glory…</td><td>0</td><td>1960</td><td>null</td><td>&quot;107&quot;</td><td>&quot;Drama&quot;</td></tr><tr><td>&quot;tt0059538&quot;</td><td>&quot;movie&quot;</td><td>&quot;Old Surehand&quot;</td><td>&quot;Old Surehand, …</td><td>0</td><td>1965</td><td>null</td><td>&quot;90&quot;</td><td>&quot;Adventure,West…</td></tr></tbody></table></div>"
      ],
      "text/plain": [
       "shape: (5, 9)\n",
       "┌───────────┬───────────┬────────────┬───────────┬───┬───────────┬─────────┬───────────┬───────────┐\n",
       "│ tconst    ┆ titleType ┆ primaryTit ┆ originalT ┆ … ┆ startYear ┆ endYear ┆ runtimeMi ┆ genres    │\n",
       "│ ---       ┆ ---       ┆ le         ┆ itle      ┆   ┆ ---       ┆ ---     ┆ nutes     ┆ ---       │\n",
       "│ str       ┆ str       ┆ ---        ┆ ---       ┆   ┆ i32       ┆ i32     ┆ ---       ┆ str       │\n",
       "│           ┆           ┆ str        ┆ str       ┆   ┆           ┆         ┆ str       ┆           │\n",
       "╞═══════════╪═══════════╪════════════╪═══════════╪═══╪═══════════╪═════════╪═══════════╪═══════════╡\n",
       "│ tt0018526 ┆ movie     ┆ Underworld ┆ Underworl ┆ … ┆ 1927      ┆ null    ┆ 80        ┆ Crime,Dra │\n",
       "│           ┆           ┆            ┆ d         ┆   ┆           ┆         ┆           ┆ ma,Film-N │\n",
       "│           ┆           ┆            ┆           ┆   ┆           ┆         ┆           ┆ oir       │\n",
       "│ tt0039305 ┆ movie     ┆ Dead       ┆ Dead      ┆ … ┆ 1946      ┆ null    ┆ 100       ┆ Crime,Dra │\n",
       "│           ┆           ┆ Reckoning  ┆ Reckoning ┆   ┆           ┆         ┆           ┆ ma,Film-N │\n",
       "│           ┆           ┆            ┆           ┆   ┆           ┆         ┆           ┆ oir       │\n",
       "│ tt0044008 ┆ movie     ┆ A          ┆ Scrooge   ┆ … ┆ 1951      ┆ null    ┆ 86        ┆ Drama,Fam │\n",
       "│           ┆           ┆ Christmas  ┆           ┆   ┆           ┆         ┆           ┆ ily,Fanta │\n",
       "│           ┆           ┆ Carol      ┆           ┆   ┆           ┆         ┆           ┆ sy        │\n",
       "│ tt0054412 ┆ movie     ┆ Tunes of   ┆ Tunes of  ┆ … ┆ 1960      ┆ null    ┆ 107       ┆ Drama     │\n",
       "│           ┆           ┆ Glory      ┆ Glory     ┆   ┆           ┆         ┆           ┆           │\n",
       "│ tt0059538 ┆ movie     ┆ Old        ┆ Old       ┆ … ┆ 1965      ┆ null    ┆ 90        ┆ Adventure │\n",
       "│           ┆           ┆ Surehand   ┆ Surehand, ┆   ┆           ┆         ┆           ┆ ,Western  │\n",
       "│           ┆           ┆            ┆ 1. Teil   ┆   ┆           ┆         ┆           ┆           │\n",
       "└───────────┴───────────┴────────────┴───────────┴───┴───────────┴─────────┴───────────┴───────────┘"
      ]
     },
     "metadata": {},
     "output_type": "display_data"
    },
    {
     "name": "stdout",
     "output_type": "stream",
     "text": [
      "Table: extra_title_crew\n"
     ]
    },
    {
     "data": {
      "text/html": [
       "<div><style>\n",
       ".dataframe > thead > tr,\n",
       ".dataframe > tbody > tr {\n",
       "  text-align: right;\n",
       "  white-space: pre-wrap;\n",
       "}\n",
       "</style>\n",
       "<small>shape: (5, 3)</small><table border=\"1\" class=\"dataframe\"><thead><tr><th>tconst</th><th>directors</th><th>writers</th></tr><tr><td>str</td><td>str</td><td>str</td></tr></thead><tbody><tr><td>&quot;tt0018526&quot;</td><td>&quot;nm0903049,nm07…</td><td>&quot;nm0299153,nm00…</td></tr><tr><td>&quot;tt0039305&quot;</td><td>&quot;nm0188669&quot;</td><td>&quot;nm0308177,nm02…</td></tr><tr><td>&quot;tt0044008&quot;</td><td>&quot;nm0221423&quot;</td><td>&quot;nm0002042,nm04…</td></tr><tr><td>&quot;tt0054412&quot;</td><td>&quot;nm0623768&quot;</td><td>&quot;nm0447860&quot;</td></tr><tr><td>&quot;tt0059538&quot;</td><td>&quot;nm0901138&quot;</td><td>&quot;nm0562015,nm02…</td></tr></tbody></table></div>"
      ],
      "text/plain": [
       "shape: (5, 3)\n",
       "┌───────────┬─────────────────────┬───────────────────────────────────┐\n",
       "│ tconst    ┆ directors           ┆ writers                           │\n",
       "│ ---       ┆ ---                 ┆ ---                               │\n",
       "│ str       ┆ str                 ┆ str                               │\n",
       "╞═══════════╪═════════════════════╪═══════════════════════════════════╡\n",
       "│ tt0018526 ┆ nm0903049,nm0744504 ┆ nm0299153,nm0001328,nm0372942,nm… │\n",
       "│ tt0039305 ┆ nm0188669           ┆ nm0308177,nm0279795,nm0729694,nm… │\n",
       "│ tt0044008 ┆ nm0221423           ┆ nm0002042,nm0486538               │\n",
       "│ tt0054412 ┆ nm0623768           ┆ nm0447860                         │\n",
       "│ tt0059538 ┆ nm0901138           ┆ nm0562015,nm0219043,nm0445123     │\n",
       "└───────────┴─────────────────────┴───────────────────────────────────┘"
      ]
     },
     "metadata": {},
     "output_type": "display_data"
    },
    {
     "name": "stdout",
     "output_type": "stream",
     "text": [
      "Table: extra_title_principals\n"
     ]
    },
    {
     "data": {
      "text/html": [
       "<div><style>\n",
       ".dataframe > thead > tr,\n",
       ".dataframe > tbody > tr {\n",
       "  text-align: right;\n",
       "  white-space: pre-wrap;\n",
       "}\n",
       "</style>\n",
       "<small>shape: (5, 6)</small><table border=\"1\" class=\"dataframe\"><thead><tr><th>tconst</th><th>ordering</th><th>nconst</th><th>category</th><th>job</th><th>characters</th></tr><tr><td>str</td><td>i32</td><td>str</td><td>str</td><td>str</td><td>str</td></tr></thead><tbody><tr><td>&quot;tt0018526&quot;</td><td>10</td><td>&quot;nm0498133&quot;</td><td>&quot;writer&quot;</td><td>&quot;adaptation&quot;</td><td>null</td></tr><tr><td>&quot;tt0018526&quot;</td><td>1</td><td>&quot;nm0051628&quot;</td><td>&quot;actor&quot;</td><td>null</td><td>&quot;[&quot;&#x27;Bull&#x27; Weed&quot;…</td></tr><tr><td>&quot;tt0018526&quot;</td><td>2</td><td>&quot;nm0111612&quot;</td><td>&quot;actor&quot;</td><td>null</td><td>&quot;[&quot;Rolls Royce …</td></tr><tr><td>&quot;tt0018526&quot;</td><td>3</td><td>&quot;nm0107574&quot;</td><td>&quot;actress&quot;</td><td>null</td><td>&quot;[&quot;&#x27;Feathers&#x27; M…</td></tr><tr><td>&quot;tt0018526&quot;</td><td>4</td><td>&quot;nm0463264&quot;</td><td>&quot;actor&quot;</td><td>null</td><td>&quot;[&quot;&#x27;Buck&#x27; Mulli…</td></tr></tbody></table></div>"
      ],
      "text/plain": [
       "shape: (5, 6)\n",
       "┌───────────┬──────────┬───────────┬──────────┬────────────┬────────────────────────┐\n",
       "│ tconst    ┆ ordering ┆ nconst    ┆ category ┆ job        ┆ characters             │\n",
       "│ ---       ┆ ---      ┆ ---       ┆ ---      ┆ ---        ┆ ---                    │\n",
       "│ str       ┆ i32      ┆ str       ┆ str      ┆ str        ┆ str                    │\n",
       "╞═══════════╪══════════╪═══════════╪══════════╪════════════╪════════════════════════╡\n",
       "│ tt0018526 ┆ 10       ┆ nm0498133 ┆ writer   ┆ adaptation ┆ null                   │\n",
       "│ tt0018526 ┆ 1        ┆ nm0051628 ┆ actor    ┆ null       ┆ [\"'Bull' Weed\"]        │\n",
       "│ tt0018526 ┆ 2        ┆ nm0111612 ┆ actor    ┆ null       ┆ [\"Rolls Royce Wensel\"] │\n",
       "│ tt0018526 ┆ 3        ┆ nm0107574 ┆ actress  ┆ null       ┆ [\"'Feathers' McCoy\"]   │\n",
       "│ tt0018526 ┆ 4        ┆ nm0463264 ┆ actor    ┆ null       ┆ [\"'Buck' Mulligan\"]    │\n",
       "└───────────┴──────────┴───────────┴──────────┴────────────┴────────────────────────┘"
      ]
     },
     "metadata": {},
     "output_type": "display_data"
    },
    {
     "name": "stdout",
     "output_type": "stream",
     "text": [
      "Table: extra_title_ratings\n"
     ]
    },
    {
     "data": {
      "text/html": [
       "<div><style>\n",
       ".dataframe > thead > tr,\n",
       ".dataframe > tbody > tr {\n",
       "  text-align: right;\n",
       "  white-space: pre-wrap;\n",
       "}\n",
       "</style>\n",
       "<small>shape: (5, 3)</small><table border=\"1\" class=\"dataframe\"><thead><tr><th>tconst</th><th>averageRating</th><th>numVotes</th></tr><tr><td>str</td><td>f64</td><td>i32</td></tr></thead><tbody><tr><td>&quot;tt0014109&quot;</td><td>7.0</td><td>1371</td></tr><tr><td>&quot;tt0015064&quot;</td><td>8.0</td><td>15123</td></tr><tr><td>&quot;tt0015841&quot;</td><td>7.5</td><td>6039</td></tr><tr><td>&quot;tt0017271&quot;</td><td>7.6</td><td>1229</td></tr><tr><td>&quot;tt0018451&quot;</td><td>7.6</td><td>1657</td></tr></tbody></table></div>"
      ],
      "text/plain": [
       "shape: (5, 3)\n",
       "┌───────────┬───────────────┬──────────┐\n",
       "│ tconst    ┆ averageRating ┆ numVotes │\n",
       "│ ---       ┆ ---           ┆ ---      │\n",
       "│ str       ┆ f64           ┆ i32      │\n",
       "╞═══════════╪═══════════════╪══════════╡\n",
       "│ tt0014109 ┆ 7.0           ┆ 1371     │\n",
       "│ tt0015064 ┆ 8.0           ┆ 15123    │\n",
       "│ tt0015841 ┆ 7.5           ┆ 6039     │\n",
       "│ tt0017271 ┆ 7.6           ┆ 1229     │\n",
       "│ tt0018451 ┆ 7.6           ┆ 1657     │\n",
       "└───────────┴───────────────┴──────────┘"
      ]
     },
     "metadata": {},
     "output_type": "display_data"
    },
    {
     "name": "stdout",
     "output_type": "stream",
     "text": [
      "Table: imdb_directors\n"
     ]
    },
    {
     "data": {
      "text/html": [
       "<div><style>\n",
       ".dataframe > thead > tr,\n",
       ".dataframe > tbody > tr {\n",
       "  text-align: right;\n",
       "  white-space: pre-wrap;\n",
       "}\n",
       "</style>\n",
       "<small>shape: (5, 2)</small><table border=\"1\" class=\"dataframe\"><thead><tr><th>movie</th><th>director</th></tr><tr><td>str</td><td>str</td></tr></thead><tbody><tr><td>&quot;tt0003740&quot;</td><td>&quot;nm0665163&quot;</td></tr><tr><td>&quot;tt0008663&quot;</td><td>&quot;nm0803705&quot;</td></tr><tr><td>&quot;tt0009369&quot;</td><td>&quot;nm0428059&quot;</td></tr><tr><td>&quot;tt0009369&quot;</td><td>&quot;nm0949648&quot;</td></tr><tr><td>&quot;tt0010307&quot;</td><td>&quot;nm0304098&quot;</td></tr></tbody></table></div>"
      ],
      "text/plain": [
       "shape: (5, 2)\n",
       "┌───────────┬───────────┐\n",
       "│ movie     ┆ director  │\n",
       "│ ---       ┆ ---       │\n",
       "│ str       ┆ str       │\n",
       "╞═══════════╪═══════════╡\n",
       "│ tt0003740 ┆ nm0665163 │\n",
       "│ tt0008663 ┆ nm0803705 │\n",
       "│ tt0009369 ┆ nm0428059 │\n",
       "│ tt0009369 ┆ nm0949648 │\n",
       "│ tt0010307 ┆ nm0304098 │\n",
       "└───────────┴───────────┘"
      ]
     },
     "metadata": {},
     "output_type": "display_data"
    },
    {
     "name": "stdout",
     "output_type": "stream",
     "text": [
      "Table: imdb_train\n"
     ]
    },
    {
     "data": {
      "text/html": [
       "<div><style>\n",
       ".dataframe > thead > tr,\n",
       ".dataframe > tbody > tr {\n",
       "  text-align: right;\n",
       "  white-space: pre-wrap;\n",
       "}\n",
       "</style>\n",
       "<small>shape: (5, 8)</small><table border=\"1\" class=\"dataframe\"><thead><tr><th>tconst</th><th>primaryTitle</th><th>originalTitle</th><th>startYear</th><th>endYear</th><th>runtimeMinutes</th><th>numVotes</th><th>label</th></tr><tr><td>str</td><td>str</td><td>str</td><td>i32</td><td>i32</td><td>i32</td><td>f64</td><td>bool</td></tr></thead><tbody><tr><td>&quot;tt0014109&quot;</td><td>&quot;The Saga of Gö…</td><td>null</td><td>1924</td><td>null</td><td>183</td><td>1231.0</td><td>true</td></tr><tr><td>&quot;tt0015064&quot;</td><td>&quot;The Last Laugh…</td><td>&quot;Der letzte Man…</td><td>1924</td><td>null</td><td>77</td><td>null</td><td>true</td></tr><tr><td>&quot;tt0015841&quot;</td><td>&quot;The Freshman&quot;</td><td>&quot;The Freshman&quot;</td><td>1925</td><td>null</td><td>77</td><td>5374.0</td><td>true</td></tr><tr><td>&quot;tt0017271&quot;</td><td>&quot;By the Law&quot;</td><td>null</td><td>null</td><td>1926</td><td>80</td><td>1057.0</td><td>true</td></tr><tr><td>&quot;tt0018451&quot;</td><td>&quot;The Student Pr…</td><td>null</td><td>1927</td><td>null</td><td>106</td><td>1459.0</td><td>true</td></tr></tbody></table></div>"
      ],
      "text/plain": [
       "shape: (5, 8)\n",
       "┌───────────┬───────────────┬──────────────┬───────────┬─────────┬──────────────┬──────────┬───────┐\n",
       "│ tconst    ┆ primaryTitle  ┆ originalTitl ┆ startYear ┆ endYear ┆ runtimeMinut ┆ numVotes ┆ label │\n",
       "│ ---       ┆ ---           ┆ e            ┆ ---       ┆ ---     ┆ es           ┆ ---      ┆ ---   │\n",
       "│ str       ┆ str           ┆ ---          ┆ i32       ┆ i32     ┆ ---          ┆ f64      ┆ bool  │\n",
       "│           ┆               ┆ str          ┆           ┆         ┆ i32          ┆          ┆       │\n",
       "╞═══════════╪═══════════════╪══════════════╪═══════════╪═════════╪══════════════╪══════════╪═══════╡\n",
       "│ tt0014109 ┆ The Saga of   ┆ null         ┆ 1924      ┆ null    ┆ 183          ┆ 1231.0   ┆ true  │\n",
       "│           ┆ Gösta Berling ┆              ┆           ┆         ┆              ┆          ┆       │\n",
       "│ tt0015064 ┆ The Last      ┆ Der letzte   ┆ 1924      ┆ null    ┆ 77           ┆ null     ┆ true  │\n",
       "│           ┆ Laugh         ┆ Mann         ┆           ┆         ┆              ┆          ┆       │\n",
       "│ tt0015841 ┆ The Freshman  ┆ The Freshman ┆ 1925      ┆ null    ┆ 77           ┆ 5374.0   ┆ true  │\n",
       "│ tt0017271 ┆ By the Law    ┆ null         ┆ null      ┆ 1926    ┆ 80           ┆ 1057.0   ┆ true  │\n",
       "│ tt0018451 ┆ The Student   ┆ null         ┆ 1927      ┆ null    ┆ 106          ┆ 1459.0   ┆ true  │\n",
       "│           ┆ Prince in Old ┆              ┆           ┆         ┆              ┆          ┆       │\n",
       "│           ┆ Heidel…       ┆              ┆           ┆         ┆              ┆          ┆       │\n",
       "└───────────┴───────────────┴──────────────┴───────────┴─────────┴──────────────┴──────────┴───────┘"
      ]
     },
     "metadata": {},
     "output_type": "display_data"
    },
    {
     "name": "stdout",
     "output_type": "stream",
     "text": [
      "Table: imdb_writing\n"
     ]
    },
    {
     "data": {
      "text/html": [
       "<div><style>\n",
       ".dataframe > thead > tr,\n",
       ".dataframe > tbody > tr {\n",
       "  text-align: right;\n",
       "  white-space: pre-wrap;\n",
       "}\n",
       "</style>\n",
       "<small>shape: (5, 2)</small><table border=\"1\" class=\"dataframe\"><thead><tr><th>movie</th><th>writer</th></tr><tr><td>str</td><td>str</td></tr></thead><tbody><tr><td>&quot;tt0003740&quot;</td><td>&quot;nm0195339&quot;</td></tr><tr><td>&quot;tt0003740&quot;</td><td>&quot;nm0515385&quot;</td></tr><tr><td>&quot;tt0003740&quot;</td><td>&quot;nm0665163&quot;</td></tr><tr><td>&quot;tt0003740&quot;</td><td>&quot;nm0758215&quot;</td></tr><tr><td>&quot;tt0008663&quot;</td><td>&quot;nm0406585&quot;</td></tr></tbody></table></div>"
      ],
      "text/plain": [
       "shape: (5, 2)\n",
       "┌───────────┬───────────┐\n",
       "│ movie     ┆ writer    │\n",
       "│ ---       ┆ ---       │\n",
       "│ str       ┆ str       │\n",
       "╞═══════════╪═══════════╡\n",
       "│ tt0003740 ┆ nm0195339 │\n",
       "│ tt0003740 ┆ nm0515385 │\n",
       "│ tt0003740 ┆ nm0665163 │\n",
       "│ tt0003740 ┆ nm0758215 │\n",
       "│ tt0008663 ┆ nm0406585 │\n",
       "└───────────┴───────────┘"
      ]
     },
     "metadata": {},
     "output_type": "display_data"
    },
    {
     "name": "stdout",
     "output_type": "stream",
     "text": [
      "Table: letterboxd_movie_ratings_data\n"
     ]
    },
    {
     "data": {
      "text/html": [
       "<div><style>\n",
       ".dataframe > thead > tr,\n",
       ".dataframe > tbody > tr {\n",
       "  text-align: right;\n",
       "  white-space: pre-wrap;\n",
       "}\n",
       "</style>\n",
       "<small>shape: (5, 14)</small><table border=\"1\" class=\"dataframe\"><thead><tr><th>_id</th><th>movie_id</th><th>movie_title</th><th>original_language</th><th>popularity</th><th>release_date</th><th>runtime</th><th>vote_average</th><th>vote_count</th><th>year_released</th><th>tconst</th><th>genre</th><th>production_countrie</th><th>spoken_language</th></tr><tr><td>str</td><td>str</td><td>str</td><td>str</td><td>str</td><td>str</td><td>str</td><td>str</td><td>str</td><td>str</td><td>str</td><td>str</td><td>str</td><td>str</td></tr></thead><tbody><tr><td>&quot;5fc86a3d6758f6…</td><td>&quot;the-trump-prop…</td><td>&quot;The Trump Prop…</td><td>&quot;en&quot;</td><td>&quot;2.025&quot;</td><td>&quot;2018-10-02&quot;</td><td>&quot;120&quot;</td><td>&quot;4&quot;</td><td>&quot;7&quot;</td><td>&quot;2018&quot;</td><td>&quot;tt8235296&quot;</td><td>&quot;Drama&quot;</td><td>&quot;United States …</td><td>&quot;English&quot;</td></tr><tr><td>&quot;5fc8708a6758f6…</td><td>&quot;nothing-funny&quot;</td><td>&quot;Nothing Funny&quot;</td><td>&quot;pl&quot;</td><td>&quot;4.192&quot;</td><td>&quot;1996-02-02&quot;</td><td>&quot;95&quot;</td><td>&quot;7.2&quot;</td><td>&quot;39&quot;</td><td>&quot;1996&quot;</td><td>&quot;tt0113971&quot;</td><td>&quot;Comedy&quot;</td><td>&quot;Poland&quot;</td><td>&quot;Polski&quot;</td></tr><tr><td>&quot;5fc8738e6758f6…</td><td>&quot;whose-streets&quot;</td><td>&quot;Whose Streets?…</td><td>&quot;en&quot;</td><td>&quot;2.919&quot;</td><td>&quot;2017-08-11&quot;</td><td>&quot;90&quot;</td><td>&quot;5.8&quot;</td><td>&quot;19&quot;</td><td>&quot;2017&quot;</td><td>&quot;tt6176928&quot;</td><td>&quot;Documentary&quot;</td><td>&quot;United States …</td><td>&quot;English&quot;</td></tr><tr><td>&quot;5fc879006758f6…</td><td>&quot;tunes-of-glory…</td><td>&quot;Tunes of Glory…</td><td>&quot;en&quot;</td><td>&quot;2.941&quot;</td><td>&quot;1960-09-17&quot;</td><td>&quot;106&quot;</td><td>&quot;7.1&quot;</td><td>&quot;38&quot;</td><td>&quot;1960&quot;</td><td>&quot;tt0054412&quot;</td><td>&quot;Drama&quot;</td><td>&quot;United Kingdom…</td><td>&quot;English&quot;</td></tr><tr><td>&quot;5fc87a246758f6…</td><td>&quot;baaghi-2&quot;</td><td>&quot;Baaghi 2&quot;</td><td>&quot;hi&quot;</td><td>&quot;4.897&quot;</td><td>&quot;2018-03-30&quot;</td><td>&quot;145&quot;</td><td>&quot;5.8&quot;</td><td>&quot;40&quot;</td><td>&quot;2018&quot;</td><td>&quot;tt6843812&quot;</td><td>&quot;Action&quot;</td><td>&quot;India&quot;</td><td>&quot;हिन्दी&quot;</td></tr></tbody></table></div>"
      ],
      "text/plain": [
       "shape: (5, 14)\n",
       "┌───────────┬───────────┬───────────┬───────────┬───┬───────────┬───────────┬───────────┬──────────┐\n",
       "│ _id       ┆ movie_id  ┆ movie_tit ┆ original_ ┆ … ┆ tconst    ┆ genre     ┆ productio ┆ spoken_l │\n",
       "│ ---       ┆ ---       ┆ le        ┆ language  ┆   ┆ ---       ┆ ---       ┆ n_countri ┆ anguage  │\n",
       "│ str       ┆ str       ┆ ---       ┆ ---       ┆   ┆ str       ┆ str       ┆ e         ┆ ---      │\n",
       "│           ┆           ┆ str       ┆ str       ┆   ┆           ┆           ┆ ---       ┆ str      │\n",
       "│           ┆           ┆           ┆           ┆   ┆           ┆           ┆ str       ┆          │\n",
       "╞═══════════╪═══════════╪═══════════╪═══════════╪═══╪═══════════╪═══════════╪═══════════╪══════════╡\n",
       "│ 5fc86a3d6 ┆ the-trump ┆ The Trump ┆ en        ┆ … ┆ tt8235296 ┆ Drama     ┆ United    ┆ English  │\n",
       "│ 758f69634 ┆ -prophecy ┆ Prophecy  ┆           ┆   ┆           ┆           ┆ States of ┆          │\n",
       "│ 7878d6    ┆           ┆           ┆           ┆   ┆           ┆           ┆ America   ┆          │\n",
       "│ 5fc8708a6 ┆ nothing-f ┆ Nothing   ┆ pl        ┆ … ┆ tt0113971 ┆ Comedy    ┆ Poland    ┆ Polski   │\n",
       "│ 758f69634 ┆ unny      ┆ Funny     ┆           ┆   ┆           ┆           ┆           ┆          │\n",
       "│ 926e14    ┆           ┆           ┆           ┆   ┆           ┆           ┆           ┆          │\n",
       "│ 5fc8738e6 ┆ whose-str ┆ Whose     ┆ en        ┆ … ┆ tt6176928 ┆ Documenta ┆ United    ┆ English  │\n",
       "│ 758f69634 ┆ eets      ┆ Streets?  ┆           ┆   ┆           ┆ ry        ┆ States of ┆          │\n",
       "│ a4a799    ┆           ┆           ┆           ┆   ┆           ┆           ┆ America   ┆          │\n",
       "│ 5fc879006 ┆ tunes-of- ┆ Tunes of  ┆ en        ┆ … ┆ tt0054412 ┆ Drama     ┆ United    ┆ English  │\n",
       "│ 758f69634 ┆ glory     ┆ Glory     ┆           ┆   ┆           ┆           ┆ Kingdom   ┆          │\n",
       "│ bbeb28    ┆           ┆           ┆           ┆   ┆           ┆           ┆           ┆          │\n",
       "│ 5fc87a246 ┆ baaghi-2  ┆ Baaghi 2  ┆ hi        ┆ … ┆ tt6843812 ┆ Action    ┆ India     ┆ हिन्दी    │\n",
       "│ 758f69634 ┆           ┆           ┆           ┆   ┆           ┆           ┆           ┆          │\n",
       "│ c0f186    ┆           ┆           ┆           ┆   ┆           ┆           ┆           ┆          │\n",
       "└───────────┴───────────┴───────────┴───────────┴───┴───────────┴───────────┴───────────┴──────────┘"
      ]
     },
     "metadata": {},
     "output_type": "display_data"
    },
    {
     "name": "stdout",
     "output_type": "stream",
     "text": [
      "Table: movie_data\n"
     ]
    },
    {
     "data": {
      "text/html": [
       "<div><style>\n",
       ".dataframe > thead > tr,\n",
       ".dataframe > tbody > tr {\n",
       "  text-align: right;\n",
       "  white-space: pre-wrap;\n",
       "}\n",
       "</style>\n",
       "<small>shape: (5, 19)</small><table border=\"1\" class=\"dataframe\"><thead><tr><th>_id</th><th>genres</th><th>image_url</th><th>imdb_id</th><th>imdb_link</th><th>movie_id</th><th>movie_title</th><th>original_language</th><th>overview</th><th>popularity</th><th>production_countries</th><th>release_date</th><th>runtime</th><th>spoken_languages</th><th>tmdb_id</th><th>tmdb_link</th><th>vote_average</th><th>vote_count</th><th>year_released</th></tr><tr><td>str</td><td>str</td><td>str</td><td>str</td><td>str</td><td>str</td><td>str</td><td>str</td><td>str</td><td>str</td><td>str</td><td>str</td><td>str</td><td>str</td><td>str</td><td>str</td><td>str</td><td>str</td><td>str</td></tr></thead><tbody><tr><td>&quot;5fc85f606758f6…</td><td>&quot;&quot;[&quot;&quot;Music&quot;&quot;&quot;</td><td>&quot;&quot;&quot;Animation&quot;&quot;]…</td><td>&quot;film-poster/4/…</td><td>null</td><td>null</td><td>&quot;football-freak…</td><td>&quot;Football Freak…</td><td>&quot;en&quot;</td><td>&quot;Football crazy…</td><td>&quot;0.6&quot;</td><td>&quot;&quot;[&quot;&quot;United Kin…</td><td>&quot;1971-12-05&quot;</td><td>&quot;0&quot;</td><td>&quot;[]&quot;</td><td>&quot;535272&quot;</td><td>&quot;https://www.th…</td><td>&quot;0&quot;</td><td>&quot;0&quot;</td></tr><tr><td>&quot;5fc85ff26758f6…</td><td>&quot;[]&quot;</td><td>&quot;film-poster/2/…</td><td>&quot;tt0586129&quot;</td><td>&quot;http://www.imd…</td><td>&quot;aftermath-1960…</td><td>&quot;Aftermath&quot;</td><td>&quot;en&quot;</td><td>&quot;Aftermath was …</td><td>&quot;0.6&quot;</td><td>&quot;[]&quot;</td><td>&quot;1960-04-17&quot;</td><td>&quot;22&quot;</td><td>&quot;[]&quot;</td><td>&quot;318331&quot;</td><td>&quot;https://www.th…</td><td>&quot;8&quot;</td><td>&quot;1&quot;</td><td>&quot;1960&quot;</td></tr><tr><td>&quot;5fc85f606758f6…</td><td>&quot;&quot;[&quot;&quot;Drama&quot;&quot;]&quot;&quot;</td><td>&quot;film-poster/9/…</td><td>&quot;tt0045731&quot;</td><td>&quot;http://www.imd…</td><td>&quot;where-chimneys…</td><td>&quot;Where Chimneys…</td><td>&quot;ja&quot;</td><td>&quot;Gosho’s most c…</td><td>&quot;1.568&quot;</td><td>&quot;&quot;[&quot;&quot;Japan&quot;&quot;]&quot;&quot;</td><td>&quot;1953-03-05&quot;</td><td>&quot;108&quot;</td><td>&quot;&quot;[&quot;&quot;日本語&quot;&quot;]&quot;&quot;</td><td>&quot;117779&quot;</td><td>&quot;https://www.th…</td><td>&quot;6.6&quot;</td><td>&quot;10&quot;</td><td>&quot;1953&quot;</td></tr><tr><td>&quot;5fc85f606758f6…</td><td>&quot;&quot;[&quot;&quot;Drama&quot;&quot;]&quot;&quot;</td><td>null</td><td>&quot;tt0187327&quot;</td><td>&quot;http://www.imd…</td><td>&quot;the-musicians-…</td><td>&quot;The Musician&#x27;s…</td><td>&quot;en&quot;</td><td>&quot;Carl Wagner&#x27;s …</td><td>&quot;0.6&quot;</td><td>&quot;&quot;[&quot;&quot;United Sta…</td><td>&quot;1911-12-12&quot;</td><td>&quot;15&quot;</td><td>&quot;[]&quot;</td><td>&quot;560377&quot;</td><td>&quot;https://www.th…</td><td>&quot;0&quot;</td><td>&quot;0&quot;</td><td>&quot;1911&quot;</td></tr><tr><td>&quot;5fc85f606758f6…</td><td>&quot;&quot;[&quot;&quot;Documentar…</td><td>&quot;film-poster/4/…</td><td>&quot;tt4769914&quot;</td><td>&quot;http://www.imd…</td><td>&quot;50-years-of-fa…</td><td>&quot;50 Years of Fa…</td><td>&quot;en&quot;</td><td>&quot;50 Years of Fa…</td><td>&quot;0.6&quot;</td><td>&quot;[]&quot;</td><td>&quot;2018-05-17&quot;</td><td>&quot;75&quot;</td><td>&quot;[]&quot;</td><td>&quot;525187&quot;</td><td>&quot;https://www.th…</td><td>&quot;0&quot;</td><td>&quot;0&quot;</td><td>&quot;2018&quot;</td></tr></tbody></table></div>"
      ],
      "text/plain": [
       "shape: (5, 19)\n",
       "┌───────────┬───────────┬───────────┬───────────┬───┬───────────┬───────────┬───────────┬──────────┐\n",
       "│ _id       ┆ genres    ┆ image_url ┆ imdb_id   ┆ … ┆ tmdb_link ┆ vote_aver ┆ vote_coun ┆ year_rel │\n",
       "│ ---       ┆ ---       ┆ ---       ┆ ---       ┆   ┆ ---       ┆ age       ┆ t         ┆ eased    │\n",
       "│ str       ┆ str       ┆ str       ┆ str       ┆   ┆ str       ┆ ---       ┆ ---       ┆ ---      │\n",
       "│           ┆           ┆           ┆           ┆   ┆           ┆ str       ┆ str       ┆ str      │\n",
       "╞═══════════╪═══════════╪═══════════╪═══════════╪═══╪═══════════╪═══════════╪═══════════╪══════════╡\n",
       "│ 5fc85f606 ┆ \"[\"\"Music ┆ \"\"Animati ┆ film-post ┆ … ┆ 535272    ┆ https://w ┆ 0         ┆ 0        │\n",
       "│ 758f69634 ┆ \"\"        ┆ on\"\"]\"    ┆ er/4/6/4/ ┆   ┆           ┆ ww.themov ┆           ┆          │\n",
       "│ 496fd3    ┆           ┆           ┆ 4/4/0/464 ┆   ┆           ┆ iedb.org/ ┆           ┆          │\n",
       "│           ┆           ┆           ┆ 440-f…    ┆   ┆           ┆ movie…    ┆           ┆          │\n",
       "│ 5fc85ff26 ┆ []        ┆ film-post ┆ tt0586129 ┆ … ┆ https://w ┆ 8         ┆ 1         ┆ 1960     │\n",
       "│ 758f69634 ┆           ┆ er/2/4/5/ ┆           ┆   ┆ ww.themov ┆           ┆           ┆          │\n",
       "│ 4ace0c    ┆           ┆ 5/0/0/245 ┆           ┆   ┆ iedb.org/ ┆           ┆           ┆          │\n",
       "│           ┆           ┆ 500-a…    ┆           ┆   ┆ movie…    ┆           ┆           ┆          │\n",
       "│ 5fc85f606 ┆ \"[\"\"Drama ┆ film-post ┆ tt0045731 ┆ … ┆ https://w ┆ 6.6       ┆ 10        ┆ 1953     │\n",
       "│ 758f69634 ┆ \"\"]\"      ┆ er/9/3/3/ ┆           ┆   ┆ ww.themov ┆           ┆           ┆          │\n",
       "│ 496fcd    ┆           ┆ 1/8/93318 ┆           ┆   ┆ iedb.org/ ┆           ┆           ┆          │\n",
       "│           ┆           ┆ -wher…    ┆           ┆   ┆ movie…    ┆           ┆           ┆          │\n",
       "│ 5fc85f606 ┆ \"[\"\"Drama ┆ null      ┆ tt0187327 ┆ … ┆ https://w ┆ 0         ┆ 0         ┆ 1911     │\n",
       "│ 758f69634 ┆ \"\"]\"      ┆           ┆           ┆   ┆ ww.themov ┆           ┆           ┆          │\n",
       "│ 496fd1    ┆           ┆           ┆           ┆   ┆ iedb.org/ ┆           ┆           ┆          │\n",
       "│           ┆           ┆           ┆           ┆   ┆ movie…    ┆           ┆           ┆          │\n",
       "│ 5fc85f606 ┆ \"[\"\"Docum ┆ film-post ┆ tt4769914 ┆ … ┆ https://w ┆ 0         ┆ 0         ┆ 2018     │\n",
       "│ 758f69634 ┆ entary\"\"] ┆ er/4/5/4/ ┆           ┆   ┆ ww.themov ┆           ┆           ┆          │\n",
       "│ 496fd4    ┆ \"         ┆ 6/0/3/454 ┆           ┆   ┆ iedb.org/ ┆           ┆           ┆          │\n",
       "│           ┆           ┆ 603-5…    ┆           ┆   ┆ movie…    ┆           ┆           ┆          │\n",
       "└───────────┴───────────┴───────────┴───────────┴───┴───────────┴───────────┴───────────┴──────────┘"
      ]
     },
     "metadata": {},
     "output_type": "display_data"
    },
    {
     "name": "stdout",
     "output_type": "stream",
     "text": [
      "Table: the_oscar_award\n"
     ]
    },
    {
     "data": {
      "text/html": [
       "<div><style>\n",
       ".dataframe > thead > tr,\n",
       ".dataframe > tbody > tr {\n",
       "  text-align: right;\n",
       "  white-space: pre-wrap;\n",
       "}\n",
       "</style>\n",
       "<small>shape: (5, 7)</small><table border=\"1\" class=\"dataframe\"><thead><tr><th>year_film</th><th>year_ceremony</th><th>ceremony</th><th>category</th><th>name</th><th>film</th><th>winner</th></tr><tr><td>i32</td><td>i32</td><td>i32</td><td>str</td><td>str</td><td>str</td><td>str</td></tr></thead><tbody><tr><td>1927</td><td>1928</td><td>1</td><td>&quot;ACTOR&quot;</td><td>&quot;Richard Barthe…</td><td>&quot;The Noose&quot;</td><td>&quot;False&quot;</td></tr><tr><td>1927</td><td>1928</td><td>1</td><td>&quot;ACTOR&quot;</td><td>&quot;Emil Jannings&quot;</td><td>&quot;The Last Comma…</td><td>&quot;True&quot;</td></tr><tr><td>1927</td><td>1928</td><td>1</td><td>&quot;ACTRESS&quot;</td><td>&quot;Louise Dresser…</td><td>&quot;A Ship Comes I…</td><td>&quot;False&quot;</td></tr><tr><td>1927</td><td>1928</td><td>1</td><td>&quot;ACTRESS&quot;</td><td>&quot;Janet Gaynor&quot;</td><td>&quot;7th Heaven&quot;</td><td>&quot;True&quot;</td></tr><tr><td>1927</td><td>1928</td><td>1</td><td>&quot;ACTRESS&quot;</td><td>&quot;Gloria Swanson…</td><td>&quot;Sadie Thompson…</td><td>&quot;False&quot;</td></tr></tbody></table></div>"
      ],
      "text/plain": [
       "shape: (5, 7)\n",
       "┌───────────┬───────────────┬──────────┬──────────┬────────────────┬──────────────────┬────────┐\n",
       "│ year_film ┆ year_ceremony ┆ ceremony ┆ category ┆ name           ┆ film             ┆ winner │\n",
       "│ ---       ┆ ---           ┆ ---      ┆ ---      ┆ ---            ┆ ---              ┆ ---    │\n",
       "│ i32       ┆ i32           ┆ i32      ┆ str      ┆ str            ┆ str              ┆ str    │\n",
       "╞═══════════╪═══════════════╪══════════╪══════════╪════════════════╪══════════════════╪════════╡\n",
       "│ 1927      ┆ 1928          ┆ 1        ┆ ACTOR    ┆ Richard        ┆ The Noose        ┆ False  │\n",
       "│           ┆               ┆          ┆          ┆ Barthelmess    ┆                  ┆        │\n",
       "│ 1927      ┆ 1928          ┆ 1        ┆ ACTOR    ┆ Emil Jannings  ┆ The Last Command ┆ True   │\n",
       "│ 1927      ┆ 1928          ┆ 1        ┆ ACTRESS  ┆ Louise Dresser ┆ A Ship Comes In  ┆ False  │\n",
       "│ 1927      ┆ 1928          ┆ 1        ┆ ACTRESS  ┆ Janet Gaynor   ┆ 7th Heaven       ┆ True   │\n",
       "│ 1927      ┆ 1928          ┆ 1        ┆ ACTRESS  ┆ Gloria Swanson ┆ Sadie Thompson   ┆ False  │\n",
       "└───────────┴───────────────┴──────────┴──────────┴────────────────┴──────────────────┴────────┘"
      ]
     },
     "metadata": {},
     "output_type": "display_data"
    },
    {
     "name": "stdout",
     "output_type": "stream",
     "text": [
      "Table: users_export\n"
     ]
    },
    {
     "data": {
      "text/html": [
       "<div><style>\n",
       ".dataframe > thead > tr,\n",
       ".dataframe > tbody > tr {\n",
       "  text-align: right;\n",
       "  white-space: pre-wrap;\n",
       "}\n",
       "</style>\n",
       "<small>shape: (5, 5)</small><table border=\"1\" class=\"dataframe\"><thead><tr><th>display_name</th><th>num_ratings_pages</th><th>num_reviews</th><th>username</th><th>imdb_id</th></tr><tr><td>str</td><td>i32</td><td>i32</td><td>str</td><td>str</td></tr></thead><tbody><tr><td>&quot;Lucy&quot;</td><td>32</td><td>1650</td><td>&quot;deathproof&quot;</td><td>null</td></tr><tr><td>&quot;karsten&quot;</td><td>20</td><td>1147</td><td>&quot;kurstboy&quot;</td><td>null</td></tr><tr><td>&quot;davidehrlich&quot;</td><td>33</td><td>2113</td><td>&quot;davidehrlich&quot;</td><td>null</td></tr><tr><td>&quot;adrianbalboa&quot;</td><td>1</td><td>975</td><td>&quot;adrianbalboa&quot;</td><td>null</td></tr><tr><td>&quot;matt lynch&quot;</td><td>73</td><td>5278</td><td>&quot;colonelmortime…</td><td>null</td></tr></tbody></table></div>"
      ],
      "text/plain": [
       "shape: (5, 5)\n",
       "┌──────────────┬───────────────────┬─────────────┬─────────────────┬─────────┐\n",
       "│ display_name ┆ num_ratings_pages ┆ num_reviews ┆ username        ┆ imdb_id │\n",
       "│ ---          ┆ ---               ┆ ---         ┆ ---             ┆ ---     │\n",
       "│ str          ┆ i32               ┆ i32         ┆ str             ┆ str     │\n",
       "╞══════════════╪═══════════════════╪═════════════╪═════════════════╪═════════╡\n",
       "│ Lucy         ┆ 32                ┆ 1650        ┆ deathproof      ┆ null    │\n",
       "│ karsten      ┆ 20                ┆ 1147        ┆ kurstboy        ┆ null    │\n",
       "│ davidehrlich ┆ 33                ┆ 2113        ┆ davidehrlich    ┆ null    │\n",
       "│ adrianbalboa ┆ 1                 ┆ 975         ┆ adrianbalboa    ┆ null    │\n",
       "│ matt lynch   ┆ 73                ┆ 5278        ┆ colonelmortimer ┆ null    │\n",
       "└──────────────┴───────────────────┴─────────────┴─────────────────┴─────────┘"
      ]
     },
     "metadata": {},
     "output_type": "display_data"
    }
   ],
   "source": [
    "# Usage\n",
    "with DuckDBContext(duckdb_database) as ctx:\n",
    "    ctx.show_tables_info(as_dataframe=True)"
   ]
  },
  {
   "cell_type": "markdown",
   "metadata": {},
   "source": [
    "### Create Features\n"
   ]
  },
  {
   "cell_type": "code",
   "execution_count": 2,
   "metadata": {},
   "outputs": [],
   "source": [
    "# JOIN SOME TABLES TOGETHER"
   ]
  }
 ],
 "metadata": {
  "kernelspec": {
   "display_name": "Python 3",
   "language": "python",
   "name": "python3"
  },
  "language_info": {
   "codemirror_mode": {
    "name": "ipython",
    "version": 3
   },
   "file_extension": ".py",
   "mimetype": "text/x-python",
   "name": "python",
   "nbconvert_exporter": "python",
   "pygments_lexer": "ipython3",
   "version": "3.10.13"
  }
 },
 "nbformat": 4,
 "nbformat_minor": 2
}
