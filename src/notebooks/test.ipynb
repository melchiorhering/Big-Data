{
 "cells": [
  {
   "cell_type": "markdown",
   "metadata": {},
   "source": [
    "## Test Notebook!\n"
   ]
  },
  {
   "cell_type": "code",
   "execution_count": null,
   "metadata": {},
   "outputs": [],
   "source": [
    "# Using magic command you can also add Poetry packages to the Jupyter Notebook\n",
    "# !poetry add package_name"
   ]
  },
  {
   "cell_type": "markdown",
   "metadata": {},
   "source": [
    "#### Importing\n"
   ]
  },
  {
   "cell_type": "code",
   "execution_count": 14,
   "metadata": {},
   "outputs": [],
   "source": [
    "import glob\n",
    "import polars as pl  # Faster than Pandas Dataframe library (Rust based library)\n",
    "from pyspark.sql import SparkSession"
   ]
  },
  {
   "cell_type": "code",
   "execution_count": 9,
   "metadata": {},
   "outputs": [],
   "source": [
    "spark = (\n",
    "    SparkSession.builder.master(\"local[*]\")\n",
    "    .appName(\"Local PySpark Session\")\n",
    "    .getOrCreate()\n",
    ")"
   ]
  },
  {
   "cell_type": "code",
   "execution_count": 17,
   "metadata": {},
   "outputs": [
    {
     "name": "stdout",
     "output_type": "stream",
     "text": [
      "../../data/train-8.csv\n",
      "../../data/train-2.csv\n",
      "../../data/train-7.csv\n",
      "../../data/train-5.csv\n",
      "../../data/train-3.csv\n",
      "../../data/train-4.csv\n",
      "../../data/train-1.csv\n",
      "../../data/train-6.csv\n",
      "+---+---------+--------------------+----------------+---------+-------+--------------+--------+-----+\n",
      "|_c0|   tconst|        primaryTitle|   originalTitle|startYear|endYear|runtimeMinutes|numVotes|label|\n",
      "+---+---------+--------------------+----------------+---------+-------+--------------+--------+-----+\n",
      "| 14|tt0014109|The Saga of Gösta...|            NULL|     1924|   NULL|           183|  1231.0| True|\n",
      "| 24|tt0015064|      The Last Laugh| Der letzte Mann|     1924|   NULL|            77|    NULL| True|\n",
      "| 32|tt0015841|        The Freshman|    The Freshman|     1925|   NULL|            77|  5374.0| True|\n",
      "| 47|tt0017271|          By the Law|            NULL|     NULL|   1926|            80|  1057.0| True|\n",
      "| 56|tt0018451|The Student Princ...|            NULL|     1927|   NULL|           106|  1459.0| True|\n",
      "| 62|tt0018742|       The Cameraman|   The Cameraman|     1928|   NULL|            76| 11388.0| True|\n",
      "| 69|tt0019379|         Show People|            NULL|     1928|   NULL|            83|  3695.0| True|\n",
      "| 76|tt0020018|      In Old Arizona|            NULL|     1928|   NULL|            95|  1049.0|False|\n",
      "| 80|tt0020793|Escape from Dartmoor|            NULL|     1929|   NULL|            88|  1102.0| True|\n",
      "| 90|tt0022125|              Marius|            NULL|     1931|   NULL|           130|  2251.0| True|\n",
      "| 99|tt0022626|    American Madness|            NULL|     1932|   NULL|            75|  1996.0| True|\n",
      "|107|tt0023622| Trouble in Paradise|            NULL|     1932|   NULL|            83| 14090.0| True|\n",
      "|113|tt0023876|           Cavalcade|       Cavalcade|     NULL|   1933|           112|  5038.0|False|\n",
      "|129|tt0024593|         Son of Kong|            NULL|     1933|   NULL|            70|  4501.0|False|\n",
      "|136|tt0025164|    Thé Gáy Divớrcéé|The Gay Divorcee|     1934|   NULL|           107|    NULL| True|\n",
      "|164|tt0027532|           Dớdswớrth|            NULL|     1936|   NULL|           101|  8817.0| True|\n",
      "|169|tt0027977|        Modern Times|            NULL|     1936|   NULL|            87|231243.0| True|\n",
      "|171|tt0028070|       Our Relations|            NULL|     NULL|   1936|            71|  3077.0| True|\n",
      "|179|tt0028315|            Stớwáwáy|            NULL|     1936|   NULL|            87|  1323.0| True|\n",
      "|189|tt0028773|            Dead End|        Dead End|     1937|   NULL|            93|    NULL| True|\n",
      "+---+---------+--------------------+----------------+---------+-------+--------------+--------+-----+\n",
      "only showing top 20 rows\n",
      "\n"
     ]
    },
    {
     "name": "stderr",
     "output_type": "stream",
     "text": [
      "24/03/13 19:20:53 WARN CSVHeaderChecker: CSV header does not conform to the schema.\n",
      " Header: \\N, tconst, primaryTitle, originalTitle, startYear, endYear, runtimeMinutes, numVotes, label\n",
      " Schema: _c0, tconst, primaryTitle, originalTitle, startYear, endYear, runtimeMinutes, numVotes, label\n",
      "Expected: _c0 but found: \\N\n",
      "CSV file: file:///workspaces/Big-Data/data/train-4.csv\n"
     ]
    }
   ],
   "source": [
    "# Get a list of all CSV files that match the pattern\n",
    "csv_files = glob.glob(\"../../data/train-*.csv\")\n",
    "\n",
    "# Print the files\n",
    "for file in csv_files:\n",
    "    print(file)\n",
    "\n",
    "# Load all CSV files in the data directory into a dataframe\n",
    "# Specify '\\\\N' as a null value\n",
    "df = spark.read.csv(\"../../data/train-*.csv\", header=True, nullValue=\"\\\\N\")\n",
    "\n",
    "# Print the dataframe\n",
    "df.show()"
   ]
  },
  {
   "cell_type": "code",
   "execution_count": 21,
   "metadata": {},
   "outputs": [
    {
     "data": {
      "text/plain": [
       "['name.basics.tsv.gz',\n",
       " 'title.akas.tsv.gz',\n",
       " 'title.basics.tsv.gz',\n",
       " 'title.crew.tsv.gz',\n",
       " 'title.episode.tsv.gz',\n",
       " 'title.principals.tsv.gz',\n",
       " 'title.ratings.tsv.gz']"
      ]
     },
     "execution_count": 21,
     "metadata": {},
     "output_type": "execute_result"
    }
   ],
   "source": [
    "base_url = \"https://datasets.imdbws.com/\"\n",
    "\n",
    "[\"name.basics.tsv.gz\", \"title.akas.tsv.gz\", \"title.basics.tsv.gz\", \"title.crew.tsv.gz\", \"title.episode.tsv.gz\", \"title.principals.tsv.gz\", \"title.ratings.tsv.gz\"]"
   ]
  },
  {
   "cell_type": "markdown",
   "metadata": {},
   "source": [
    "#### Using Polars and or Pandas\n",
    "\n",
    "A lot of Data-Wrangling is necessary because the data is dirty!\n"
   ]
  },
  {
   "cell_type": "code",
   "execution_count": null,
   "metadata": {},
   "outputs": [],
   "source": [
    "# With Polars you can read multiple files at once using a wildcard\n",
    "\n",
    "# Since\n",
    "# Specify the columns to keep\n",
    "columns_to_keep = [\n",
    "    \"column1\",\n",
    "    \"column2\",\n",
    "    \"column3\",\n",
    "    \"column4\",\n",
    "    \"column5\",\n",
    "    \"column6\",\n",
    "    \"column7\",\n",
    "    \"column8\",\n",
    "]\n",
    "\n",
    "# Load all CSV files in the data directory into a dataframe\n",
    "# Specify '\\\\N' as a null value and only keep the specified columns\n",
    "df = pl.read_csv(\"../../data/*.csv\", null_values=[\"\\\\N\"], with_columns=columns_to_keep)\n",
    "\n",
    "# Print the dataframe\n",
    "print(df)\n",
    "# Print the dataframe\n",
    "print(df)"
   ]
  },
  {
   "cell_type": "code",
   "execution_count": null,
   "metadata": {},
   "outputs": [],
   "source": []
  }
 ],
 "metadata": {
  "kernelspec": {
   "display_name": "big-data",
   "language": "python",
   "name": "big-data"
  },
  "language_info": {
   "codemirror_mode": {
    "name": "ipython",
    "version": 3
   },
   "file_extension": ".py",
   "mimetype": "text/x-python",
   "name": "python",
   "nbconvert_exporter": "python",
   "pygments_lexer": "ipython3",
   "version": "3.10.13"
  }
 },
 "nbformat": 4,
 "nbformat_minor": 2
}
