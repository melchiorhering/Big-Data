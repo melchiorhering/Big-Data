{
 "cells": [
  {
   "cell_type": "markdown",
   "metadata": {},
   "source": [
    "## Test Notebook!\n"
   ]
  },
  {
   "cell_type": "code",
   "execution_count": null,
   "metadata": {},
   "outputs": [],
   "source": [
    "# Using magic command you can also add Poetry packages to the Jupyter Notebook\n",
    "# !poetry add package_name"
   ]
  },
  {
   "cell_type": "markdown",
   "metadata": {},
   "source": [
    "#### Importing\n"
   ]
  },
  {
   "cell_type": "code",
   "execution_count": 14,
   "metadata": {},
   "outputs": [],
   "source": [
    "import os\n",
    "import glob\n",
    "import polars as pl  # Faster than Pandas Dataframe library (Rust based library)\n",
    "import pandas as pd  # Goo'ol Pandas\n",
    "from pyspark.sql import SparkSession\n",
    "from pyspark.sql.functions import col\n",
    "from pyspark.sql.types import StringType"
   ]
  },
  {
   "cell_type": "code",
   "execution_count": 9,
   "metadata": {},
   "outputs": [],
   "source": [
    "spark = (\n",
    "    SparkSession.builder.master(\"local[*]\")\n",
    "    .appName(\"Local PySpark Session\")\n",
    "    .getOrCreate()\n",
    ")"
   ]
  },
  {
   "cell_type": "code",
   "execution_count": 17,
   "metadata": {},
   "outputs": [
    {
     "name": "stdout",
     "output_type": "stream",
     "text": [
      "../../data/train-8.csv\n",
      "../../data/train-2.csv\n",
      "../../data/train-7.csv\n",
      "../../data/train-5.csv\n",
      "../../data/train-3.csv\n",
      "../../data/train-4.csv\n",
      "../../data/train-1.csv\n",
      "../../data/train-6.csv\n",
      "+---+---------+--------------------+----------------+---------+-------+--------------+--------+-----+\n",
      "|_c0|   tconst|        primaryTitle|   originalTitle|startYear|endYear|runtimeMinutes|numVotes|label|\n",
      "+---+---------+--------------------+----------------+---------+-------+--------------+--------+-----+\n",
      "| 14|tt0014109|The Saga of Gösta...|            NULL|     1924|   NULL|           183|  1231.0| True|\n",
      "| 24|tt0015064|      The Last Laugh| Der letzte Mann|     1924|   NULL|            77|    NULL| True|\n",
      "| 32|tt0015841|        The Freshman|    The Freshman|     1925|   NULL|            77|  5374.0| True|\n",
      "| 47|tt0017271|          By the Law|            NULL|     NULL|   1926|            80|  1057.0| True|\n",
      "| 56|tt0018451|The Student Princ...|            NULL|     1927|   NULL|           106|  1459.0| True|\n",
      "| 62|tt0018742|       The Cameraman|   The Cameraman|     1928|   NULL|            76| 11388.0| True|\n",
      "| 69|tt0019379|         Show People|            NULL|     1928|   NULL|            83|  3695.0| True|\n",
      "| 76|tt0020018|      In Old Arizona|            NULL|     1928|   NULL|            95|  1049.0|False|\n",
      "| 80|tt0020793|Escape from Dartmoor|            NULL|     1929|   NULL|            88|  1102.0| True|\n",
      "| 90|tt0022125|              Marius|            NULL|     1931|   NULL|           130|  2251.0| True|\n",
      "| 99|tt0022626|    American Madness|            NULL|     1932|   NULL|            75|  1996.0| True|\n",
      "|107|tt0023622| Trouble in Paradise|            NULL|     1932|   NULL|            83| 14090.0| True|\n",
      "|113|tt0023876|           Cavalcade|       Cavalcade|     NULL|   1933|           112|  5038.0|False|\n",
      "|129|tt0024593|         Son of Kong|            NULL|     1933|   NULL|            70|  4501.0|False|\n",
      "|136|tt0025164|    Thé Gáy Divớrcéé|The Gay Divorcee|     1934|   NULL|           107|    NULL| True|\n",
      "|164|tt0027532|           Dớdswớrth|            NULL|     1936|   NULL|           101|  8817.0| True|\n",
      "|169|tt0027977|        Modern Times|            NULL|     1936|   NULL|            87|231243.0| True|\n",
      "|171|tt0028070|       Our Relations|            NULL|     NULL|   1936|            71|  3077.0| True|\n",
      "|179|tt0028315|            Stớwáwáy|            NULL|     1936|   NULL|            87|  1323.0| True|\n",
      "|189|tt0028773|            Dead End|        Dead End|     1937|   NULL|            93|    NULL| True|\n",
      "+---+---------+--------------------+----------------+---------+-------+--------------+--------+-----+\n",
      "only showing top 20 rows\n",
      "\n"
     ]
    },
    {
     "name": "stderr",
     "output_type": "stream",
     "text": [
      "24/03/13 19:20:53 WARN CSVHeaderChecker: CSV header does not conform to the schema.\n",
      " Header: \\N, tconst, primaryTitle, originalTitle, startYear, endYear, runtimeMinutes, numVotes, label\n",
      " Schema: _c0, tconst, primaryTitle, originalTitle, startYear, endYear, runtimeMinutes, numVotes, label\n",
      "Expected: _c0 but found: \\N\n",
      "CSV file: file:///workspaces/Big-Data/data/train-4.csv\n"
     ]
    }
   ],
   "source": [
    "# Get a list of all CSV files that match the pattern\n",
    "csv_files = glob.glob(\"../../data/train-*.csv\")\n",
    "\n",
    "# Print the files\n",
    "for file in csv_files:\n",
    "    print(file)\n",
    "\n",
    "\n",
    "# Load all CSV files in the data directory into a dataframe\n",
    "# Specify '\\\\N' as a null value\n",
    "df = spark.read.csv(\"../../data/train-*.csv\", header=True, nullValue=\"\\\\N\")\n",
    "\n",
    "\n",
    "# Print the dataframe\n",
    "df.show()"
   ]
  },
  {
   "cell_type": "code",
   "execution_count": 11,
   "metadata": {},
   "outputs": [
    {
     "name": "stdout",
     "output_type": "stream",
     "text": [
      "+----+---------+--------------------+--------------------+---------+-------+--------------+--------+-----+\n",
      "| _c0|      _c1|                 _c2|                 _c3|      _c4|    _c5|           _c6|     _c7|  _c8|\n",
      "+----+---------+--------------------+--------------------+---------+-------+--------------+--------+-----+\n",
      "|NULL|   tconst|        primaryTitle|       originalTitle|startYear|endYear|runtimeMinutes|numVotes|label|\n",
      "|  11|tt0013257|               Häxan|               Häxan|     1922|     \\N|            91| 13679.0| True|\n",
      "|  12|tt0013556|          Robin Hood|                NULL|     1922|     \\N|           143|  2178.0| True|\n",
      "|  16|tt0014341|     Our Hospitality|     Our Hospitality|     1923|     \\N|            65| 10911.0| True|\n",
      "|  19|tt0014538|          Three Ages|                NULL|     1923|     \\N|            63|  4312.0| True|\n",
      "|  50|tt0017925|         The General|                NULL|     1926|     \\N|            67| 87784.0| True|\n",
      "|  54|tt0018192|            Napoleon|Napoléon vu par A...|     1927|     \\N|           330|  7622.0| True|\n",
      "|  57|tt0018526|          Úndérwớrld|                NULL|     1927|     \\N|            80|  2912.0| True|\n",
      "|  64|tt0018806|           The Crowd|           The Crowd|       \\N|   1928|            98|  8197.0| True|\n",
      "|  74|tt0019788|            Coquette|            Coquette|       \\N|   1929|            76|  2127.0|False|\n",
      "| 112|tt0023871|    Á Sớng ớf Lisbớn|  A Canção de Lisboa|     1933|     \\N|            85|  1432.0| True|\n",
      "| 117|tt0023969|           Dúck Sớúp|           Duck Soup|     1933|     \\N|            69| 59069.0| True|\n",
      "| 138|tt0025410|  Little Miss Marker|  Little Miss Marker|     1934|     \\N|            80|  1277.0| True|\n",
      "| 152|tt0026529|        The Informer|        The Informer|       \\N|   1935|            91|  6255.0| True|\n",
      "| 168|tt0027914|     Love on the Run|                NULL|     1936|     \\N|            80|  1219.0|False|\n",
      "| 175|tt0028212|            Sabotage|            Sabotage|     1936|     \\N|            76| 16166.0| True|\n",
      "| 177|tt0028249|           Show Boat|                NULL|     1936|     \\N|           113|  3236.0| True|\n",
      "| 191|tt0028944|      The Good Earth|      The Good Earth|       \\N|   1937|           138|  4801.0| True|\n",
      "| 193|tt0029146|The Life of Emile...|The Life of Emile...|     1937|     \\N|           116|    NULL| True|\n",
      "| 198|tt0029314|Humanity and Pape...|                NULL|     1937|     \\N|            86|  1995.0| True|\n",
      "+----+---------+--------------------+--------------------+---------+-------+--------------+--------+-----+\n",
      "only showing top 20 rows\n",
      "\n"
     ]
    }
   ],
   "source": [
    "df.show()"
   ]
  },
  {
   "cell_type": "markdown",
   "metadata": {},
   "source": [
    "#### Using Polars and or Pandas\n",
    "\n",
    "A lot of Data-Wrangling is necessary because the data is dirty!\n"
   ]
  },
  {
   "cell_type": "code",
   "execution_count": null,
   "metadata": {},
   "outputs": [],
   "source": [
    "# With Polars you can read multiple files at once using a wildcard\n",
    "\n",
    "# Since\n",
    "# Specify the columns to keep\n",
    "columns_to_keep = [\n",
    "    \"column1\",\n",
    "    \"column2\",\n",
    "    \"column3\",\n",
    "    \"column4\",\n",
    "    \"column5\",\n",
    "    \"column6\",\n",
    "    \"column7\",\n",
    "    \"column8\",\n",
    "]\n",
    "\n",
    "# Load all CSV files in the data directory into a dataframe\n",
    "# Specify '\\\\N' as a null value and only keep the specified columns\n",
    "df = pl.read_csv(\"../../data/*.csv\", null_values=[\"\\\\N\"], with_columns=columns_to_keep)\n",
    "\n",
    "# Print the dataframe\n",
    "print(df)\n",
    "# Print the dataframe\n",
    "print(df)"
   ]
  },
  {
   "cell_type": "code",
   "execution_count": null,
   "metadata": {},
   "outputs": [],
   "source": []
  }
 ],
 "metadata": {
  "kernelspec": {
   "display_name": "big-data",
   "language": "python",
   "name": "big-data"
  },
  "language_info": {
   "codemirror_mode": {
    "name": "ipython",
    "version": 3
   },
   "file_extension": ".py",
   "mimetype": "text/x-python",
   "name": "python",
   "nbconvert_exporter": "python",
   "pygments_lexer": "ipython3",
   "version": "3.10.13"
  }
 },
 "nbformat": 4,
 "nbformat_minor": 2
}
