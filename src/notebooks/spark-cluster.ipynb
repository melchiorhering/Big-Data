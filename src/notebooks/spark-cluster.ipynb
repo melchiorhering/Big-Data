{
 "cells": [
  {
   "cell_type": "code",
   "execution_count": 1,
   "metadata": {},
   "outputs": [],
   "source": [
    "import glob\n",
    "from pyspark.sql import SparkSession\n",
    "from pyspark import SparkContext"
   ]
  },
  {
   "cell_type": "code",
   "execution_count": 2,
   "metadata": {},
   "outputs": [
    {
     "name": "stdout",
     "output_type": "stream",
     "text": [
      "3.5.1\n"
     ]
    }
   ],
   "source": [
    "import pyspark\n",
    "print(pyspark.__version__)"
   ]
  },
  {
   "cell_type": "code",
   "execution_count": 3,
   "metadata": {},
   "outputs": [
    {
     "name": "stderr",
     "output_type": "stream",
     "text": [
      "Setting default log level to \"WARN\".\n",
      "To adjust logging level use sc.setLogLevel(newLevel). For SparkR, use setLogLevel(newLevel).\n",
      "24/03/14 09:01:22 WARN NativeCodeLoader: Unable to load native-hadoop library for your platform... using builtin-java classes where applicable\n"
     ]
    }
   ],
   "source": [
    "spark = SparkSession.builder.master(\"spark://spark:7077\").appName(\"TestApp\").getOrCreate()"
   ]
  },
  {
   "cell_type": "code",
   "execution_count": 4,
   "metadata": {},
   "outputs": [
    {
     "name": "stdout",
     "output_type": "stream",
     "text": [
      "../../data/train-8.csv\n",
      "../../data/train-2.csv\n",
      "../../data/train-7.csv\n",
      "../../data/train-5.csv\n",
      "../../data/train-3.csv\n",
      "../../data/train-4.csv\n",
      "../../data/train-1.csv\n",
      "../../data/train-6.csv\n"
     ]
    },
    {
     "name": "stderr",
     "output_type": "stream",
     "text": [
      "                                                                                \r"
     ]
    },
    {
     "name": "stdout",
     "output_type": "stream",
     "text": [
      "+---+---------+--------------------+----------------+---------+-------+--------------+--------+-----+\n",
      "|_c0|   tconst|        primaryTitle|   originalTitle|startYear|endYear|runtimeMinutes|numVotes|label|\n",
      "+---+---------+--------------------+----------------+---------+-------+--------------+--------+-----+\n",
      "| 14|tt0014109|The Saga of Gösta...|            NULL|     1924|   NULL|           183|  1231.0| True|\n",
      "| 24|tt0015064|      The Last Laugh| Der letzte Mann|     1924|   NULL|            77|    NULL| True|\n",
      "| 32|tt0015841|        The Freshman|    The Freshman|     1925|   NULL|            77|  5374.0| True|\n",
      "| 47|tt0017271|          By the Law|            NULL|     NULL|   1926|            80|  1057.0| True|\n",
      "| 56|tt0018451|The Student Princ...|            NULL|     1927|   NULL|           106|  1459.0| True|\n",
      "| 62|tt0018742|       The Cameraman|   The Cameraman|     1928|   NULL|            76| 11388.0| True|\n",
      "| 69|tt0019379|         Show People|            NULL|     1928|   NULL|            83|  3695.0| True|\n",
      "| 76|tt0020018|      In Old Arizona|            NULL|     1928|   NULL|            95|  1049.0|False|\n",
      "| 80|tt0020793|Escape from Dartmoor|            NULL|     1929|   NULL|            88|  1102.0| True|\n",
      "| 90|tt0022125|              Marius|            NULL|     1931|   NULL|           130|  2251.0| True|\n",
      "| 99|tt0022626|    American Madness|            NULL|     1932|   NULL|            75|  1996.0| True|\n",
      "|107|tt0023622| Trouble in Paradise|            NULL|     1932|   NULL|            83| 14090.0| True|\n",
      "|113|tt0023876|           Cavalcade|       Cavalcade|     NULL|   1933|           112|  5038.0|False|\n",
      "|129|tt0024593|         Son of Kong|            NULL|     1933|   NULL|            70|  4501.0|False|\n",
      "|136|tt0025164|    Thé Gáy Divớrcéé|The Gay Divorcee|     1934|   NULL|           107|    NULL| True|\n",
      "|164|tt0027532|           Dớdswớrth|            NULL|     1936|   NULL|           101|  8817.0| True|\n",
      "|169|tt0027977|        Modern Times|            NULL|     1936|   NULL|            87|231243.0| True|\n",
      "|171|tt0028070|       Our Relations|            NULL|     NULL|   1936|            71|  3077.0| True|\n",
      "|179|tt0028315|            Stớwáwáy|            NULL|     1936|   NULL|            87|  1323.0| True|\n",
      "|189|tt0028773|            Dead End|        Dead End|     1937|   NULL|            93|    NULL| True|\n",
      "+---+---------+--------------------+----------------+---------+-------+--------------+--------+-----+\n",
      "only showing top 20 rows\n",
      "\n"
     ]
    }
   ],
   "source": [
    "# Get a list of all CSV files that match the pattern\n",
    "csv_files = glob.glob(\"../../data/train-*.csv\")\n",
    "\n",
    "# Print the files\n",
    "for file in csv_files:\n",
    "    print(file)\n",
    "\n",
    "# Load all CSV files in the data directory into a dataframe\n",
    "# Specify '\\\\N' as a null value\n",
    "df = spark.read.csv(\"../../data/train-*.csv\", header=True, nullValue=\"\\\\N\")\n",
    "\n",
    "# Print the dataframe\n",
    "df.show()"
   ]
  },
  {
   "cell_type": "code",
   "execution_count": null,
   "metadata": {},
   "outputs": [],
   "source": []
  }
 ],
 "metadata": {
  "kernelspec": {
   "display_name": "big-data",
   "language": "python",
   "name": "big-data"
  },
  "language_info": {
   "codemirror_mode": {
    "name": "ipython",
    "version": 3
   },
   "file_extension": ".py",
   "mimetype": "text/x-python",
   "name": "python",
   "nbconvert_exporter": "python",
   "pygments_lexer": "ipython3",
   "version": "3.10.13"
  }
 },
 "nbformat": 4,
 "nbformat_minor": 2
}
